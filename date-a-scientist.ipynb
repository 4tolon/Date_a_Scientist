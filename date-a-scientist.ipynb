{
 "cells": [
  {
   "cell_type": "markdown",
   "metadata": {},
   "source": [
    "# OkCupid: DATE A SCIENTIST\n",
    "\n",
    "\n",
    "## A Machine Learning Portfolio Project by 4tolon\n",
    "\n",
    "### Exercise and data provide by CodeAcademy"
   ]
  },
  {
   "cell_type": "markdown",
   "metadata": {},
   "source": [
    "<img src='https://www.imer.mx/tropicalisima/wp-content/uploads/sites/19/Cientifico-Loco.jpg'  >"
   ]
  },
  {
   "cell_type": "markdown",
   "metadata": {},
   "source": [
    "## Introduction"
   ]
  },
  {
   "cell_type": "markdown",
   "metadata": {},
   "source": [
    "In recent years, there has been a massive rise in the usage of dating apps to find love. Many of these apps use sophisticated data science techniques to recommend possible matches to users and to optimize the user experience. These apps give us access to a wealth of information that we’ve never had before about how different people experience romance.\n",
    "\n",
    "In this portfolio project, you will analyze some data from OKCupid, an app that focuses on using multiple choice and short answers to match users.\n",
    "\n",
    "You will also create a presentation about your findings from this OKCupid dataset.\n",
    "\n",
    "The purpose of this project is to practice formulating questions and implementing machine learning techniques to answer those questions. However, the questions you ask and how you answer them are entirely up to you.\n",
    "\n",
    "We’re excited to see the different topics you explore."
   ]
  },
  {
   "cell_type": "markdown",
   "metadata": {},
   "source": [
    "## Scoping"
   ]
  },
  {
   "cell_type": "markdown",
   "metadata": {},
   "source": [
    "Goals – For this project I goin to create a meaningfull JupyterNoteBook in all the aspects of the propose problem from the Data threatment to the scorring of the Machine Learning Models\n",
    "\n",
    "Actions – Analisis of data probided in many diferent ways, from simple tally to complex visualitation. After that, determine the problems to analice by the use of machine learning and validate the conclusions with data.\n",
    "\n",
    "Data – Thee data for this exercise is a CSV file called profiles.csv\n",
    "\n",
    "Analysis – The analysis will involve description, detection, prediction, or behavior change, but this will by determined after the study of the data provided. "
   ]
  },
  {
   "cell_type": "markdown",
   "metadata": {},
   "source": [
    "# Import the modules "
   ]
  },
  {
   "cell_type": "code",
   "execution_count": 1,
   "metadata": {},
   "outputs": [],
   "source": [
    "\n",
    "# Start Python Imports\n",
    "import math, time, random, datetime\n",
    "\n",
    "# Data Manipulation\n",
    "import numpy as np\n",
    "import pandas as pd\n",
    "from pandas import DataFrame\n",
    "\n",
    "# Visualization \n",
    "import matplotlib.pyplot as plt\n",
    "\n",
    "import seaborn as sns\n",
    "plt.style.use('seaborn-whitegrid')\n",
    "import missingno\n",
    "#Machine Learning Modules\n",
    "from sklearn.model_selection import train_test_split"
   ]
  },
  {
   "cell_type": "markdown",
   "metadata": {},
   "source": [
    "# Loading of Data"
   ]
  },
  {
   "cell_type": "code",
   "execution_count": 2,
   "metadata": {},
   "outputs": [
    {
     "data": {
      "text/html": [
       "<div>\n",
       "<style scoped>\n",
       "    .dataframe tbody tr th:only-of-type {\n",
       "        vertical-align: middle;\n",
       "    }\n",
       "\n",
       "    .dataframe tbody tr th {\n",
       "        vertical-align: top;\n",
       "    }\n",
       "\n",
       "    .dataframe thead th {\n",
       "        text-align: right;\n",
       "    }\n",
       "</style>\n",
       "<table border=\"1\" class=\"dataframe\">\n",
       "  <thead>\n",
       "    <tr style=\"text-align: right;\">\n",
       "      <th></th>\n",
       "      <th>age</th>\n",
       "      <th>body_type</th>\n",
       "      <th>diet</th>\n",
       "      <th>drinks</th>\n",
       "      <th>drugs</th>\n",
       "      <th>education</th>\n",
       "      <th>essay0</th>\n",
       "      <th>essay1</th>\n",
       "      <th>essay2</th>\n",
       "      <th>essay3</th>\n",
       "      <th>...</th>\n",
       "      <th>location</th>\n",
       "      <th>offspring</th>\n",
       "      <th>orientation</th>\n",
       "      <th>pets</th>\n",
       "      <th>religion</th>\n",
       "      <th>sex</th>\n",
       "      <th>sign</th>\n",
       "      <th>smokes</th>\n",
       "      <th>speaks</th>\n",
       "      <th>status</th>\n",
       "    </tr>\n",
       "  </thead>\n",
       "  <tbody>\n",
       "    <tr>\n",
       "      <th>0</th>\n",
       "      <td>22</td>\n",
       "      <td>a little extra</td>\n",
       "      <td>strictly anything</td>\n",
       "      <td>socially</td>\n",
       "      <td>never</td>\n",
       "      <td>working on college/university</td>\n",
       "      <td>about me:&lt;br /&gt;\\n&lt;br /&gt;\\ni would love to think...</td>\n",
       "      <td>currently working as an international agent fo...</td>\n",
       "      <td>making people laugh.&lt;br /&gt;\\nranting about a go...</td>\n",
       "      <td>the way i look. i am a six foot half asian, ha...</td>\n",
       "      <td>...</td>\n",
       "      <td>south san francisco, california</td>\n",
       "      <td>doesn&amp;rsquo;t have kids, but might want them</td>\n",
       "      <td>straight</td>\n",
       "      <td>likes dogs and likes cats</td>\n",
       "      <td>agnosticism and very serious about it</td>\n",
       "      <td>m</td>\n",
       "      <td>gemini</td>\n",
       "      <td>sometimes</td>\n",
       "      <td>english</td>\n",
       "      <td>single</td>\n",
       "    </tr>\n",
       "    <tr>\n",
       "      <th>1</th>\n",
       "      <td>35</td>\n",
       "      <td>average</td>\n",
       "      <td>mostly other</td>\n",
       "      <td>often</td>\n",
       "      <td>sometimes</td>\n",
       "      <td>working on space camp</td>\n",
       "      <td>i am a chef: this is what that means.&lt;br /&gt;\\n1...</td>\n",
       "      <td>dedicating everyday to being an unbelievable b...</td>\n",
       "      <td>being silly. having ridiculous amonts of fun w...</td>\n",
       "      <td>NaN</td>\n",
       "      <td>...</td>\n",
       "      <td>oakland, california</td>\n",
       "      <td>doesn&amp;rsquo;t have kids, but might want them</td>\n",
       "      <td>straight</td>\n",
       "      <td>likes dogs and likes cats</td>\n",
       "      <td>agnosticism but not too serious about it</td>\n",
       "      <td>m</td>\n",
       "      <td>cancer</td>\n",
       "      <td>no</td>\n",
       "      <td>english (fluently), spanish (poorly), french (...</td>\n",
       "      <td>single</td>\n",
       "    </tr>\n",
       "    <tr>\n",
       "      <th>2</th>\n",
       "      <td>38</td>\n",
       "      <td>thin</td>\n",
       "      <td>anything</td>\n",
       "      <td>socially</td>\n",
       "      <td>NaN</td>\n",
       "      <td>graduated from masters program</td>\n",
       "      <td>i'm not ashamed of much, but writing public te...</td>\n",
       "      <td>i make nerdy software for musicians, artists, ...</td>\n",
       "      <td>improvising in different contexts. alternating...</td>\n",
       "      <td>my large jaw and large glasses are the physica...</td>\n",
       "      <td>...</td>\n",
       "      <td>san francisco, california</td>\n",
       "      <td>NaN</td>\n",
       "      <td>straight</td>\n",
       "      <td>has cats</td>\n",
       "      <td>NaN</td>\n",
       "      <td>m</td>\n",
       "      <td>pisces but it doesn&amp;rsquo;t matter</td>\n",
       "      <td>no</td>\n",
       "      <td>english, french, c++</td>\n",
       "      <td>available</td>\n",
       "    </tr>\n",
       "    <tr>\n",
       "      <th>3</th>\n",
       "      <td>23</td>\n",
       "      <td>thin</td>\n",
       "      <td>vegetarian</td>\n",
       "      <td>socially</td>\n",
       "      <td>NaN</td>\n",
       "      <td>working on college/university</td>\n",
       "      <td>i work in a library and go to school. . .</td>\n",
       "      <td>reading things written by old dead people</td>\n",
       "      <td>playing synthesizers and organizing books acco...</td>\n",
       "      <td>socially awkward but i do my best</td>\n",
       "      <td>...</td>\n",
       "      <td>berkeley, california</td>\n",
       "      <td>doesn&amp;rsquo;t want kids</td>\n",
       "      <td>straight</td>\n",
       "      <td>likes cats</td>\n",
       "      <td>NaN</td>\n",
       "      <td>m</td>\n",
       "      <td>pisces</td>\n",
       "      <td>no</td>\n",
       "      <td>english, german (poorly)</td>\n",
       "      <td>single</td>\n",
       "    </tr>\n",
       "    <tr>\n",
       "      <th>4</th>\n",
       "      <td>29</td>\n",
       "      <td>athletic</td>\n",
       "      <td>NaN</td>\n",
       "      <td>socially</td>\n",
       "      <td>never</td>\n",
       "      <td>graduated from college/university</td>\n",
       "      <td>hey how's it going? currently vague on the pro...</td>\n",
       "      <td>work work work work + play</td>\n",
       "      <td>creating imagery to look at:&lt;br /&gt;\\nhttp://bag...</td>\n",
       "      <td>i smile a lot and my inquisitive nature</td>\n",
       "      <td>...</td>\n",
       "      <td>san francisco, california</td>\n",
       "      <td>NaN</td>\n",
       "      <td>straight</td>\n",
       "      <td>likes dogs and likes cats</td>\n",
       "      <td>NaN</td>\n",
       "      <td>m</td>\n",
       "      <td>aquarius</td>\n",
       "      <td>no</td>\n",
       "      <td>english</td>\n",
       "      <td>single</td>\n",
       "    </tr>\n",
       "  </tbody>\n",
       "</table>\n",
       "<p>5 rows × 31 columns</p>\n",
       "</div>"
      ],
      "text/plain": [
       "   age       body_type               diet    drinks      drugs  \\\n",
       "0   22  a little extra  strictly anything  socially      never   \n",
       "1   35         average       mostly other     often  sometimes   \n",
       "2   38            thin           anything  socially        NaN   \n",
       "3   23            thin         vegetarian  socially        NaN   \n",
       "4   29        athletic                NaN  socially      never   \n",
       "\n",
       "                           education  \\\n",
       "0      working on college/university   \n",
       "1              working on space camp   \n",
       "2     graduated from masters program   \n",
       "3      working on college/university   \n",
       "4  graduated from college/university   \n",
       "\n",
       "                                              essay0  \\\n",
       "0  about me:<br />\\n<br />\\ni would love to think...   \n",
       "1  i am a chef: this is what that means.<br />\\n1...   \n",
       "2  i'm not ashamed of much, but writing public te...   \n",
       "3          i work in a library and go to school. . .   \n",
       "4  hey how's it going? currently vague on the pro...   \n",
       "\n",
       "                                              essay1  \\\n",
       "0  currently working as an international agent fo...   \n",
       "1  dedicating everyday to being an unbelievable b...   \n",
       "2  i make nerdy software for musicians, artists, ...   \n",
       "3          reading things written by old dead people   \n",
       "4                         work work work work + play   \n",
       "\n",
       "                                              essay2  \\\n",
       "0  making people laugh.<br />\\nranting about a go...   \n",
       "1  being silly. having ridiculous amonts of fun w...   \n",
       "2  improvising in different contexts. alternating...   \n",
       "3  playing synthesizers and organizing books acco...   \n",
       "4  creating imagery to look at:<br />\\nhttp://bag...   \n",
       "\n",
       "                                              essay3  ...  \\\n",
       "0  the way i look. i am a six foot half asian, ha...  ...   \n",
       "1                                                NaN  ...   \n",
       "2  my large jaw and large glasses are the physica...  ...   \n",
       "3                  socially awkward but i do my best  ...   \n",
       "4            i smile a lot and my inquisitive nature  ...   \n",
       "\n",
       "                          location  \\\n",
       "0  south san francisco, california   \n",
       "1              oakland, california   \n",
       "2        san francisco, california   \n",
       "3             berkeley, california   \n",
       "4        san francisco, california   \n",
       "\n",
       "                                      offspring orientation  \\\n",
       "0  doesn&rsquo;t have kids, but might want them    straight   \n",
       "1  doesn&rsquo;t have kids, but might want them    straight   \n",
       "2                                           NaN    straight   \n",
       "3                       doesn&rsquo;t want kids    straight   \n",
       "4                                           NaN    straight   \n",
       "\n",
       "                        pets                                  religion sex  \\\n",
       "0  likes dogs and likes cats     agnosticism and very serious about it   m   \n",
       "1  likes dogs and likes cats  agnosticism but not too serious about it   m   \n",
       "2                   has cats                                       NaN   m   \n",
       "3                 likes cats                                       NaN   m   \n",
       "4  likes dogs and likes cats                                       NaN   m   \n",
       "\n",
       "                                 sign     smokes  \\\n",
       "0                              gemini  sometimes   \n",
       "1                              cancer         no   \n",
       "2  pisces but it doesn&rsquo;t matter         no   \n",
       "3                              pisces         no   \n",
       "4                            aquarius         no   \n",
       "\n",
       "                                              speaks     status  \n",
       "0                                            english     single  \n",
       "1  english (fluently), spanish (poorly), french (...     single  \n",
       "2                               english, french, c++  available  \n",
       "3                           english, german (poorly)     single  \n",
       "4                                            english     single  \n",
       "\n",
       "[5 rows x 31 columns]"
      ]
     },
     "execution_count": 2,
     "metadata": {},
     "output_type": "execute_result"
    }
   ],
   "source": [
    "df = pd.read_csv('profiles.csv')\n",
    "df.head()"
   ]
  },
  {
   "cell_type": "code",
   "execution_count": 3,
   "metadata": {},
   "outputs": [
    {
     "name": "stdout",
     "output_type": "stream",
     "text": [
      "<class 'pandas.core.frame.DataFrame'>\n",
      "RangeIndex: 59946 entries, 0 to 59945\n",
      "Data columns (total 31 columns):\n",
      " #   Column       Non-Null Count  Dtype  \n",
      "---  ------       --------------  -----  \n",
      " 0   age          59946 non-null  int64  \n",
      " 1   body_type    54650 non-null  object \n",
      " 2   diet         35551 non-null  object \n",
      " 3   drinks       56961 non-null  object \n",
      " 4   drugs        45866 non-null  object \n",
      " 5   education    53318 non-null  object \n",
      " 6   essay0       54458 non-null  object \n",
      " 7   essay1       52374 non-null  object \n",
      " 8   essay2       50308 non-null  object \n",
      " 9   essay3       48470 non-null  object \n",
      " 10  essay4       49409 non-null  object \n",
      " 11  essay5       49096 non-null  object \n",
      " 12  essay6       46175 non-null  object \n",
      " 13  essay7       47495 non-null  object \n",
      " 14  essay8       40721 non-null  object \n",
      " 15  essay9       47343 non-null  object \n",
      " 16  ethnicity    54266 non-null  object \n",
      " 17  height       59943 non-null  float64\n",
      " 18  income       59946 non-null  int64  \n",
      " 19  job          51748 non-null  object \n",
      " 20  last_online  59946 non-null  object \n",
      " 21  location     59946 non-null  object \n",
      " 22  offspring    24385 non-null  object \n",
      " 23  orientation  59946 non-null  object \n",
      " 24  pets         40025 non-null  object \n",
      " 25  religion     39720 non-null  object \n",
      " 26  sex          59946 non-null  object \n",
      " 27  sign         48890 non-null  object \n",
      " 28  smokes       54434 non-null  object \n",
      " 29  speaks       59896 non-null  object \n",
      " 30  status       59946 non-null  object \n",
      "dtypes: float64(1), int64(2), object(28)\n",
      "memory usage: 7.8+ MB\n"
     ]
    }
   ],
   "source": [
    "df.info()"
   ]
  },
  {
   "cell_type": "markdown",
   "metadata": {},
   "source": [
    "As we see, there are 30 diferent columns with information form 59946 diferents users of the app. The most of the columns are catergorical"
   ]
  },
  {
   "cell_type": "markdown",
   "metadata": {},
   "source": [
    "###  What numerical data are there?"
   ]
  },
  {
   "cell_type": "code",
   "execution_count": 4,
   "metadata": {
    "scrolled": false
   },
   "outputs": [
    {
     "data": {
      "text/html": [
       "<div>\n",
       "<style scoped>\n",
       "    .dataframe tbody tr th:only-of-type {\n",
       "        vertical-align: middle;\n",
       "    }\n",
       "\n",
       "    .dataframe tbody tr th {\n",
       "        vertical-align: top;\n",
       "    }\n",
       "\n",
       "    .dataframe thead th {\n",
       "        text-align: right;\n",
       "    }\n",
       "</style>\n",
       "<table border=\"1\" class=\"dataframe\">\n",
       "  <thead>\n",
       "    <tr style=\"text-align: right;\">\n",
       "      <th></th>\n",
       "      <th>age</th>\n",
       "      <th>height</th>\n",
       "      <th>income</th>\n",
       "    </tr>\n",
       "  </thead>\n",
       "  <tbody>\n",
       "    <tr>\n",
       "      <th>count</th>\n",
       "      <td>59946.000000</td>\n",
       "      <td>59943.000000</td>\n",
       "      <td>59946.000000</td>\n",
       "    </tr>\n",
       "    <tr>\n",
       "      <th>mean</th>\n",
       "      <td>32.340290</td>\n",
       "      <td>68.295281</td>\n",
       "      <td>20033.222534</td>\n",
       "    </tr>\n",
       "    <tr>\n",
       "      <th>std</th>\n",
       "      <td>9.452779</td>\n",
       "      <td>3.994803</td>\n",
       "      <td>97346.192104</td>\n",
       "    </tr>\n",
       "    <tr>\n",
       "      <th>min</th>\n",
       "      <td>18.000000</td>\n",
       "      <td>1.000000</td>\n",
       "      <td>-1.000000</td>\n",
       "    </tr>\n",
       "    <tr>\n",
       "      <th>25%</th>\n",
       "      <td>26.000000</td>\n",
       "      <td>66.000000</td>\n",
       "      <td>-1.000000</td>\n",
       "    </tr>\n",
       "    <tr>\n",
       "      <th>50%</th>\n",
       "      <td>30.000000</td>\n",
       "      <td>68.000000</td>\n",
       "      <td>-1.000000</td>\n",
       "    </tr>\n",
       "    <tr>\n",
       "      <th>75%</th>\n",
       "      <td>37.000000</td>\n",
       "      <td>71.000000</td>\n",
       "      <td>-1.000000</td>\n",
       "    </tr>\n",
       "    <tr>\n",
       "      <th>max</th>\n",
       "      <td>110.000000</td>\n",
       "      <td>95.000000</td>\n",
       "      <td>1000000.000000</td>\n",
       "    </tr>\n",
       "  </tbody>\n",
       "</table>\n",
       "</div>"
      ],
      "text/plain": [
       "                age        height          income\n",
       "count  59946.000000  59943.000000    59946.000000\n",
       "mean      32.340290     68.295281    20033.222534\n",
       "std        9.452779      3.994803    97346.192104\n",
       "min       18.000000      1.000000       -1.000000\n",
       "25%       26.000000     66.000000       -1.000000\n",
       "50%       30.000000     68.000000       -1.000000\n",
       "75%       37.000000     71.000000       -1.000000\n",
       "max      110.000000     95.000000  1000000.000000"
      ]
     },
     "execution_count": 4,
     "metadata": {},
     "output_type": "execute_result"
    }
   ],
   "source": [
    "df.describe()"
   ]
  },
  {
   "cell_type": "code",
   "execution_count": 5,
   "metadata": {},
   "outputs": [
    {
     "data": {
      "image/png": "[encoded data removed]",
      "text/plain": [
       "<Figure size 432x288 with 1 Axes>"
      ]
     },
     "metadata": {},
     "output_type": "display_data"
    }
   ],
   "source": [
    "plt.hist(df['age'], bins=40)\n",
    "plt.title(\"Distribution of age\")\n",
    "plt.xlabel(\"Age\")\n",
    "plt.ylabel(\"Frequency\")\n",
    "plt.xlim(16, 80)\n",
    "plt.show()"
   ]
  },
  {
   "cell_type": "code",
   "execution_count": 6,
   "metadata": {},
   "outputs": [
    {
     "data": {
      "image/png": "[encoded data removed]",
      "text/plain": [
       "<Figure size 432x288 with 1 Axes>"
      ]
     },
     "metadata": {},
     "output_type": "display_data"
    }
   ],
   "source": [
    "plt.hist(df['height'], bins= 50)\n",
    "plt.title(\"Distribution of heigth\")\n",
    "plt.xlabel(\"Height\")\n",
    "plt.ylabel(\"Frequency\")\n",
    "plt.xlim(55, 85)\n",
    "plt.show()"
   ]
  },
  {
   "cell_type": "markdown",
   "metadata": {},
   "source": [
    "# What missing values are there?"
   ]
  },
  {
   "cell_type": "code",
   "execution_count": 7,
   "metadata": {},
   "outputs": [
    {
     "data": {
      "text/plain": [
       "age                0\n",
       "body_type       5296\n",
       "diet           24395\n",
       "drinks          2985\n",
       "drugs          14080\n",
       "education       6628\n",
       "essay0          5488\n",
       "essay1          7572\n",
       "essay2          9638\n",
       "essay3         11476\n",
       "essay4         10537\n",
       "essay5         10850\n",
       "essay6         13771\n",
       "essay7         12451\n",
       "essay8         19225\n",
       "essay9         12603\n",
       "ethnicity       5680\n",
       "height             3\n",
       "income             0\n",
       "job             8198\n",
       "last_online        0\n",
       "location           0\n",
       "offspring      35561\n",
       "orientation        0\n",
       "pets           19921\n",
       "religion       20226\n",
       "sex                0\n",
       "sign           11056\n",
       "smokes          5512\n",
       "speaks            50\n",
       "status             0\n",
       "dtype: int64"
      ]
     },
     "execution_count": 7,
     "metadata": {},
     "output_type": "execute_result"
    }
   ],
   "source": [
    "df.isnull().sum()"
   ]
  },
  {
   "cell_type": "markdown",
   "metadata": {},
   "source": [
    "## What data is null? The holes in our data frame\n"
   ]
  },
  {
   "cell_type": "markdown",
   "metadata": {},
   "source": [
    "<img src='https://cde.peru.com//ima/0/1/1/4/4/1144784/611x458/agroscope.jpg'>"
   ]
  },
  {
   "cell_type": "code",
   "execution_count": 8,
   "metadata": {},
   "outputs": [
    {
     "data": {
      "text/plain": [
       "<AxesSubplot:>"
      ]
     },
     "execution_count": 8,
     "metadata": {},
     "output_type": "execute_result"
    },
    {
     "data": {
      "image/png": "[encoded data removed]",
      "text/plain": [
       "<Figure size 2160x720 with 2 Axes>"
      ]
     },
     "metadata": {},
     "output_type": "display_data"
    }
   ],
   "source": [
    "# Plot graphic of missing values\n",
    "missingno.matrix(df, figsize = (30,10))"
   ]
  },
  {
   "cell_type": "markdown",
   "metadata": {},
   "source": [
    "Analisys of the table shows that columns like age, body type, diet, drinks, drugs, height and sex may by interesting for analisys, so I will discart the others "
   ]
  },
  {
   "cell_type": "markdown",
   "metadata": {},
   "source": [
    "## Cleaning the data frame  "
   ]
  },
  {
   "cell_type": "code",
   "execution_count": 9,
   "metadata": {},
   "outputs": [
    {
     "name": "stdout",
     "output_type": "stream",
     "text": [
      "['age' 'body_type' 'diet' 'drinks' 'drugs' 'education' 'essay0' 'essay1'\n",
      " 'essay2' 'essay3' 'essay4' 'essay5' 'essay6' 'essay7' 'essay8' 'essay9'\n",
      " 'ethnicity' 'height' 'income' 'job' 'last_online' 'location' 'offspring'\n",
      " 'orientation' 'pets' 'religion' 'sex' 'sign' 'smokes' 'speaks' 'status']\n"
     ]
    }
   ],
   "source": [
    "print(df.columns.values)"
   ]
  },
  {
   "cell_type": "code",
   "execution_count": 10,
   "metadata": {},
   "outputs": [],
   "source": [
    "drop_this_columns = [\n",
    "    'education',\n",
    "    'ethnicity',\n",
    "    'job',\n",
    "    'last_online',\n",
    "    'location',\n",
    "    'offspring',\n",
    "    'orientation',\n",
    "    'pets',\n",
    "    'religion',\n",
    "    'sign',\n",
    "    'speaks',\n",
    "    'income', \n",
    "    'essay0',\n",
    "    'essay1',\n",
    "    'essay2',\n",
    "    'essay3',\n",
    "    'essay4',\n",
    "    'essay5',\n",
    "    'essay6',\n",
    "    'essay7',\n",
    "    'essay8',\n",
    "    'essay9'\n",
    "]\n",
    "\n",
    "new_df = df.drop(drop_this_columns, axis=1)\n"
   ]
  },
  {
   "cell_type": "code",
   "execution_count": 11,
   "metadata": {},
   "outputs": [
    {
     "name": "stdout",
     "output_type": "stream",
     "text": [
      "['age' 'body_type' 'diet' 'drinks' 'drugs' 'height' 'sex' 'smokes'\n",
      " 'status']\n"
     ]
    }
   ],
   "source": [
    "print(new_df.columns.values)"
   ]
  },
  {
   "cell_type": "code",
   "execution_count": 12,
   "metadata": {},
   "outputs": [
    {
     "data": {
      "text/plain": [
       "59946"
      ]
     },
     "execution_count": 12,
     "metadata": {},
     "output_type": "execute_result"
    }
   ],
   "source": [
    "len(new_df)"
   ]
  },
  {
   "cell_type": "code",
   "execution_count": 13,
   "metadata": {},
   "outputs": [
    {
     "data": {
      "text/plain": [
       "age          False\n",
       "body_type     True\n",
       "diet          True\n",
       "drinks        True\n",
       "drugs         True\n",
       "height        True\n",
       "sex          False\n",
       "smokes        True\n",
       "status       False\n",
       "dtype: bool"
      ]
     },
     "execution_count": 13,
     "metadata": {},
     "output_type": "execute_result"
    }
   ],
   "source": [
    "new_df.isna().any()"
   ]
  },
  {
   "cell_type": "code",
   "execution_count": 14,
   "metadata": {},
   "outputs": [],
   "source": [
    "new_df.dropna(subset=['body_type', 'diet', 'drinks', 'height', 'smokes','drugs'], inplace = True)"
   ]
  },
  {
   "cell_type": "markdown",
   "metadata": {},
   "source": [
    "## How is our data frame now?"
   ]
  },
  {
   "cell_type": "markdown",
   "metadata": {},
   "source": [
    "<img src='https://external-content.duckduckgo.com/iu/?u=https%3A%2F%2Falchef.mx%2Fwp-content%2Fuploads%2F2020%2F09%2FCaptura-de-pantalla-2020-09-30-a-las-16.56.26.png&f=1&nofb=1'>\n"
   ]
  },
  {
   "cell_type": "code",
   "execution_count": 15,
   "metadata": {
    "scrolled": true
   },
   "outputs": [
    {
     "data": {
      "text/plain": [
       "<AxesSubplot:>"
      ]
     },
     "execution_count": 15,
     "metadata": {},
     "output_type": "execute_result"
    },
    {
     "data": {
      "image/png": "[encoded data removed]",
      "text/plain": [
       "<Figure size 2160x720 with 2 Axes>"
      ]
     },
     "metadata": {},
     "output_type": "display_data"
    }
   ],
   "source": [
    "missingno.matrix(new_df, figsize = (30,10))"
   ]
  },
  {
   "cell_type": "code",
   "execution_count": 16,
   "metadata": {},
   "outputs": [
    {
     "data": {
      "text/plain": [
       "25202"
      ]
     },
     "execution_count": 16,
     "metadata": {},
     "output_type": "execute_result"
    }
   ],
   "source": [
    "len(new_df)"
   ]
  },
  {
   "cell_type": "markdown",
   "metadata": {},
   "source": [
    "<img src='https://media.giphy.com/media/gRcSkaONpO4zm/giphy.gif' >"
   ]
  },
  {
   "cell_type": "markdown",
   "metadata": {},
   "source": [
    "I think Drugs column must be the most interested because it has only three outputs. We always have been told that there is a closed realationship between drugs, smokes and alcohol so we will see."
   ]
  },
  {
   "cell_type": "markdown",
   "metadata": {},
   "source": [
    "## Study of the drugs column:"
   ]
  },
  {
   "cell_type": "code",
   "execution_count": 17,
   "metadata": {},
   "outputs": [
    {
     "data": {
      "text/plain": [
       "0         never\n",
       "1     sometimes\n",
       "7         never\n",
       "9         never\n",
       "11        never\n",
       "Name: drugs, dtype: object"
      ]
     },
     "execution_count": 17,
     "metadata": {},
     "output_type": "execute_result"
    }
   ],
   "source": [
    "new_df['drugs'].head()"
   ]
  },
  {
   "cell_type": "code",
   "execution_count": 18,
   "metadata": {},
   "outputs": [
    {
     "data": {
      "text/plain": [
       "never        20339\n",
       "sometimes     4600\n",
       "often          263\n",
       "Name: drugs, dtype: int64"
      ]
     },
     "execution_count": 18,
     "metadata": {},
     "output_type": "execute_result"
    }
   ],
   "source": [
    "new_df['drugs'].value_counts()"
   ]
  },
  {
   "cell_type": "markdown",
   "metadata": {},
   "source": [
    "Plot to see the relationship between drugs and drinks with age:"
   ]
  },
  {
   "cell_type": "markdown",
   "metadata": {},
   "source": [
    "First in DF global "
   ]
  },
  {
   "cell_type": "code",
   "execution_count": 19,
   "metadata": {
    "scrolled": false
   },
   "outputs": [
    {
     "data": {
      "text/plain": [
       "<AxesSubplot:xlabel='drugs', ylabel='age'>"
      ]
     },
     "execution_count": 19,
     "metadata": {},
     "output_type": "execute_result"
    },
    {
     "data": {
      "image/png": "[encoded data removed]",
      "text/plain": [
       "<Figure size 432x288 with 1 Axes>"
      ]
     },
     "metadata": {},
     "output_type": "display_data"
    }
   ],
   "source": [
    "sns.stripplot(x=\"drugs\",y=\"age\",data=df,jitter=True,hue='drinks',palette='Set2',\n",
    "              dodge=True, alpha=0.6, size=4)"
   ]
  },
  {
   "cell_type": "markdown",
   "metadata": {},
   "source": [
    "Second in the NEW DF whithout gaps and only the columns selectec"
   ]
  },
  {
   "cell_type": "code",
   "execution_count": 20,
   "metadata": {
    "scrolled": false
   },
   "outputs": [
    {
     "data": {
      "text/plain": [
       "<AxesSubplot:xlabel='drugs', ylabel='age'>"
      ]
     },
     "execution_count": 20,
     "metadata": {},
     "output_type": "execute_result"
    },
    {
     "data": {
      "image/png": "[encoded data removed]",
      "text/plain": [
       "<Figure size 432x288 with 1 Axes>"
      ]
     },
     "metadata": {},
     "output_type": "display_data"
    }
   ],
   "source": [
    "sns.stripplot(x=\"drugs\",y=\"age\",data=new_df,jitter=True,hue='drinks',palette='Set2',\n",
    "              dodge=True, alpha=0.6, size=4)"
   ]
  },
  {
   "cell_type": "markdown",
   "metadata": {},
   "source": [
    "They look similar, it's looks like the reduction will not afect our analisys "
   ]
  },
  {
   "cell_type": "markdown",
   "metadata": {},
   "source": [
    "Plot to see the relationship between drugs and smoke with age:"
   ]
  },
  {
   "cell_type": "markdown",
   "metadata": {},
   "source": [
    "First in DF global "
   ]
  },
  {
   "cell_type": "code",
   "execution_count": 21,
   "metadata": {
    "scrolled": false
   },
   "outputs": [
    {
     "data": {
      "text/plain": [
       "<AxesSubplot:xlabel='drugs', ylabel='age'>"
      ]
     },
     "execution_count": 21,
     "metadata": {},
     "output_type": "execute_result"
    },
    {
     "data": {
      "image/png": "[encoded data removed]",
      "text/plain": [
       "<Figure size 432x288 with 1 Axes>"
      ]
     },
     "metadata": {},
     "output_type": "display_data"
    }
   ],
   "source": [
    "sns.stripplot(x=\"drugs\",y=\"age\",data=df,jitter=True,hue='smokes',palette='Set3',\n",
    "              dodge=True, alpha=0.6, size=4)"
   ]
  },
  {
   "cell_type": "markdown",
   "metadata": {},
   "source": [
    "Second in the NEW DF "
   ]
  },
  {
   "cell_type": "code",
   "execution_count": 22,
   "metadata": {
    "scrolled": true
   },
   "outputs": [
    {
     "data": {
      "text/plain": [
       "<AxesSubplot:xlabel='drugs', ylabel='age'>"
      ]
     },
     "execution_count": 22,
     "metadata": {},
     "output_type": "execute_result"
    },
    {
     "data": {
      "image/png": "[encoded data removed]",
      "text/plain": [
       "<Figure size 432x288 with 1 Axes>"
      ]
     },
     "metadata": {},
     "output_type": "display_data"
    }
   ],
   "source": [
    "sns.stripplot(x=\"drugs\",y=\"age\",data=new_df,jitter=True,hue='smokes',palette='Set3',\n",
    "              dodge=True, alpha=0.6, size=4)"
   ]
  },
  {
   "cell_type": "markdown",
   "metadata": {},
   "source": [
    "There is a outlier in the fisrt data frame that makes the plot chage the scale, but in esencial they look the same."
   ]
  },
  {
   "cell_type": "markdown",
   "metadata": {},
   "source": [
    "## I consider with arround 25000 users it is a good start to implement and train some Machine Learning Models. Lets adapt the data left to our purpouse"
   ]
  },
  {
   "cell_type": "code",
   "execution_count": 23,
   "metadata": {
    "scrolled": true
   },
   "outputs": [
    {
     "data": {
      "text/plain": [
       "<AxesSubplot:>"
      ]
     },
     "execution_count": 23,
     "metadata": {},
     "output_type": "execute_result"
    },
    {
     "data": {
      "image/png": "[encoded data removed]",
      "text/plain": [
       "<Figure size 2160x720 with 2 Axes>"
      ]
     },
     "metadata": {},
     "output_type": "display_data"
    }
   ],
   "source": [
    "missingno.matrix(new_df, figsize = (30,10))"
   ]
  },
  {
   "cell_type": "markdown",
   "metadata": {},
   "source": [
    "### Transforming string data in to numbers in every column:"
   ]
  },
  {
   "cell_type": "markdown",
   "metadata": {},
   "source": [
    "Here's a **BODY** for you: <img src=\"https://external-content.duckduckgo.com/iu/?u=https%3A%2F%2Finst-0.cdn.shockers.de%2Fku_cdn%2Fout%2Fpictures%2Fmaster%2Fproduct%2F1%2Fhorrorshop_com-bodybuilder_kostuem_aufblasbar_fuer_maenner-lustige_faschingskostueme_online_kaufen-27046.jpg&f=1&nofb=1\" width=200 height=200 />"
   ]
  },
  {
   "cell_type": "code",
   "execution_count": 24,
   "metadata": {},
   "outputs": [
    {
     "data": {
      "text/plain": [
       "average           6802\n",
       "fit               5742\n",
       "athletic          5366\n",
       "thin              2191\n",
       "curvy             1843\n",
       "a little extra    1312\n",
       "skinny             804\n",
       "full figured       464\n",
       "overweight         227\n",
       "jacked             191\n",
       "used up            182\n",
       "rather not say      78\n",
       "Name: body_type, dtype: int64"
      ]
     },
     "execution_count": 24,
     "metadata": {},
     "output_type": "execute_result"
    }
   ],
   "source": [
    "new_df.body_type.value_counts()"
   ]
  },
  {
   "cell_type": "code",
   "execution_count": 25,
   "metadata": {},
   "outputs": [],
   "source": [
    "new_df['body_type'] = new_df['body_type'].map({'thin':0,'skinny':1,'fit':2,'athletic':3,\n",
    "                                            'jacked':4,'rather not say':5,'average':6,\n",
    "                                            'a little extra':7,'used up':8,'curvy':9,'overweight':10,\n",
    "                                            'full figured':11})"
   ]
  },
  {
   "cell_type": "code",
   "execution_count": 26,
   "metadata": {},
   "outputs": [
    {
     "data": {
      "text/plain": [
       "6     6802\n",
       "2     5742\n",
       "3     5366\n",
       "0     2191\n",
       "9     1843\n",
       "7     1312\n",
       "1      804\n",
       "11     464\n",
       "10     227\n",
       "4      191\n",
       "8      182\n",
       "5       78\n",
       "Name: body_type, dtype: int64"
      ]
     },
     "execution_count": 26,
     "metadata": {},
     "output_type": "execute_result"
    }
   ],
   "source": [
    "new_df.body_type.value_counts()"
   ]
  },
  {
   "cell_type": "markdown",
   "metadata": {},
   "source": [
    "We are what we eat. **DIET**: <img src=\"https://static01.nyt.com/images/2017/11/21/upshot/21up-healthdiet/21up-healthdiet-articleLarge.gif?quality=30&auto=webp\" width=200 height=200 />"
   ]
  },
  {
   "cell_type": "code",
   "execution_count": 27,
   "metadata": {},
   "outputs": [
    {
     "data": {
      "text/plain": [
       "mostly anything        12290\n",
       "anything                4357\n",
       "strictly anything       3341\n",
       "mostly vegetarian       2322\n",
       "mostly other             741\n",
       "strictly vegetarian      632\n",
       "vegetarian               366\n",
       "strictly other           310\n",
       "other                    233\n",
       "mostly vegan             222\n",
       "strictly vegan           160\n",
       "vegan                     86\n",
       "mostly kosher             64\n",
       "mostly halal              36\n",
       "strictly halal            15\n",
       "strictly kosher           14\n",
       "halal                      7\n",
       "kosher                     6\n",
       "Name: diet, dtype: int64"
      ]
     },
     "execution_count": 27,
     "metadata": {},
     "output_type": "execute_result"
    }
   ],
   "source": [
    "new_df.diet.value_counts()"
   ]
  },
  {
   "cell_type": "code",
   "execution_count": 28,
   "metadata": {},
   "outputs": [],
   "source": [
    "new_df['diet'] = new_df['diet'].map({'mostly anything':0, 'anything':1, 'strictly anything':2, 'mostly vegetarian':3, \n",
    "                                            'mostly other':4, 'strictly vegetarian':5, 'vegetarian':6,\n",
    "                                            'strictly other':7, 'other':8, 'mostly vegan':9, \n",
    "                                     'strictly vegan':10, 'vegan':11, 'mostly kosher':12,\n",
    "                                            'mostly halal':13, 'strictly halal':14, 'strictly kosher':15, 'kosher':16, \n",
    "                                            'halal':17})"
   ]
  },
  {
   "cell_type": "code",
   "execution_count": 29,
   "metadata": {},
   "outputs": [
    {
     "data": {
      "text/plain": [
       "0     12290\n",
       "1      4357\n",
       "2      3341\n",
       "3      2322\n",
       "4       741\n",
       "5       632\n",
       "6       366\n",
       "7       310\n",
       "8       233\n",
       "9       222\n",
       "10      160\n",
       "11       86\n",
       "12       64\n",
       "13       36\n",
       "14       15\n",
       "15       14\n",
       "17        7\n",
       "16        6\n",
       "Name: diet, dtype: int64"
      ]
     },
     "execution_count": 29,
     "metadata": {},
     "output_type": "execute_result"
    }
   ],
   "source": [
    "new_df.diet.value_counts()"
   ]
  },
  {
   "cell_type": "markdown",
   "metadata": {},
   "source": [
    "Cheers!!\n",
    "**DRINKS** <img src=\"https://healthblog.uofmhealth.org/sites/consumer/files/2016-12/UMH_C_HOLIDAYHEART%20(1).gif\" width=200 height=200 />"
   ]
  },
  {
   "cell_type": "code",
   "execution_count": 30,
   "metadata": {},
   "outputs": [
    {
     "data": {
      "text/plain": [
       "socially       17929\n",
       "rarely          2896\n",
       "often           2162\n",
       "not at all      1789\n",
       "very often       264\n",
       "desperately      162\n",
       "Name: drinks, dtype: int64"
      ]
     },
     "execution_count": 30,
     "metadata": {},
     "output_type": "execute_result"
    }
   ],
   "source": [
    "new_df.drinks.value_counts()"
   ]
  },
  {
   "cell_type": "code",
   "execution_count": 31,
   "metadata": {},
   "outputs": [],
   "source": [
    "new_df['drinks'] = new_df['drinks'].map({'not at all':0, 'rarely':1, 'socially':2, 'often':3, 'very often':4,\n",
    "                                         'desperately':5})"
   ]
  },
  {
   "cell_type": "code",
   "execution_count": 32,
   "metadata": {},
   "outputs": [
    {
     "data": {
      "text/plain": [
       "2    17929\n",
       "1     2896\n",
       "3     2162\n",
       "0     1789\n",
       "4      264\n",
       "5      162\n",
       "Name: drinks, dtype: int64"
      ]
     },
     "execution_count": 32,
     "metadata": {},
     "output_type": "execute_result"
    }
   ],
   "source": [
    "new_df.drinks.value_counts()"
   ]
  },
  {
   "cell_type": "markdown",
   "metadata": {},
   "source": [
    "\n",
    "**DRUGS** <img src=\"https://img.buzzfeed.com/buzzfeed-static/static/2015-12/8/6/enhanced/webdr12/anigif_enhanced-11963-1449573595-4.gif\" width=200 height=200 />"
   ]
  },
  {
   "cell_type": "code",
   "execution_count": 33,
   "metadata": {},
   "outputs": [
    {
     "data": {
      "text/plain": [
       "never        20339\n",
       "sometimes     4600\n",
       "often          263\n",
       "Name: drugs, dtype: int64"
      ]
     },
     "execution_count": 33,
     "metadata": {},
     "output_type": "execute_result"
    }
   ],
   "source": [
    "new_df.drugs.value_counts()"
   ]
  },
  {
   "cell_type": "code",
   "execution_count": 34,
   "metadata": {},
   "outputs": [],
   "source": [
    "new_df['drugs'] = new_df['drugs'].map({'never':0, 'sometimes':1, 'often':2})"
   ]
  },
  {
   "cell_type": "code",
   "execution_count": 35,
   "metadata": {},
   "outputs": [
    {
     "data": {
      "text/plain": [
       "0    20339\n",
       "1     4600\n",
       "2      263\n",
       "Name: drugs, dtype: int64"
      ]
     },
     "execution_count": 35,
     "metadata": {},
     "output_type": "execute_result"
    }
   ],
   "source": [
    "new_df.drugs.value_counts()"
   ]
  },
  {
   "cell_type": "markdown",
   "metadata": {},
   "source": [
    "**SMOKE** <img src=\"https://external-content.duckduckgo.com/iu/?u=https%3A%2F%2Fejuicemagazine.com%2Fwp-content%2Fuploads%2F2017%2F08%2Frihanna_vaping_ejuice_magazine_vape_supplies_article_smoke.gif&f=1&nofb=1\" width=200 height=200 />"
   ]
  },
  {
   "cell_type": "code",
   "execution_count": 36,
   "metadata": {},
   "outputs": [
    {
     "data": {
      "text/plain": [
       "no                20402\n",
       "sometimes          1688\n",
       "when drinking      1429\n",
       "yes                1032\n",
       "trying to quit      651\n",
       "Name: smokes, dtype: int64"
      ]
     },
     "execution_count": 36,
     "metadata": {},
     "output_type": "execute_result"
    }
   ],
   "source": [
    "new_df.smokes.value_counts()"
   ]
  },
  {
   "cell_type": "code",
   "execution_count": 37,
   "metadata": {},
   "outputs": [],
   "source": [
    "new_df['smokes'] = new_df['smokes'].map({'no':0, 'sometimes':1, 'when drinking':2, 'trying to quit':3, 'yes':4})"
   ]
  },
  {
   "cell_type": "code",
   "execution_count": 38,
   "metadata": {},
   "outputs": [
    {
     "data": {
      "text/plain": [
       "0    20402\n",
       "1     1688\n",
       "2     1429\n",
       "4     1032\n",
       "3      651\n",
       "Name: smokes, dtype: int64"
      ]
     },
     "execution_count": 38,
     "metadata": {},
     "output_type": "execute_result"
    }
   ],
   "source": [
    "new_df.smokes.value_counts()"
   ]
  },
  {
   "cell_type": "markdown",
   "metadata": {},
   "source": [
    "**STATUS** <img src=\"https://external-content.duckduckgo.com/iu/?u=https%3A%2F%2Ftax-rules.com%2Fwp-content%2Fuploads%2F2019%2F01%2FMarital-Status-discrimination-1024x409.jpg&f=1&nofb=1\" width=200 height=200 />"
   ]
  },
  {
   "cell_type": "code",
   "execution_count": 39,
   "metadata": {},
   "outputs": [
    {
     "data": {
      "text/plain": [
       "single            23725\n",
       "available           695\n",
       "seeing someone      668\n",
       "married             111\n",
       "unknown               3\n",
       "Name: status, dtype: int64"
      ]
     },
     "execution_count": 39,
     "metadata": {},
     "output_type": "execute_result"
    }
   ],
   "source": [
    "new_df.status.value_counts()"
   ]
  },
  {
   "cell_type": "code",
   "execution_count": 40,
   "metadata": {},
   "outputs": [],
   "source": [
    "new_df['status'] = new_df['status'].map({'single':0, 'available':1, 'seeing someone':2, 'married':3, 'unknown':4})"
   ]
  },
  {
   "cell_type": "code",
   "execution_count": 41,
   "metadata": {},
   "outputs": [
    {
     "data": {
      "text/plain": [
       "0    23725\n",
       "1      695\n",
       "2      668\n",
       "3      111\n",
       "4        3\n",
       "Name: status, dtype: int64"
      ]
     },
     "execution_count": 41,
     "metadata": {},
     "output_type": "execute_result"
    }
   ],
   "source": [
    "new_df.status.value_counts()"
   ]
  },
  {
   "cell_type": "markdown",
   "metadata": {},
   "source": [
    "**SEX** <img src=\"https://external-content.duckduckgo.com/iu/?u=https%3A%2F%2Fcdn.dribbble.com%2Fusers%2F1001007%2Fscreenshots%2F3551498%2Fgender.gif&f=1&nofb=1\" width=200 height=200 />"
   ]
  },
  {
   "cell_type": "code",
   "execution_count": 42,
   "metadata": {},
   "outputs": [
    {
     "data": {
      "text/plain": [
       "m    15140\n",
       "f    10062\n",
       "Name: sex, dtype: int64"
      ]
     },
     "execution_count": 42,
     "metadata": {},
     "output_type": "execute_result"
    }
   ],
   "source": [
    "new_df.sex.value_counts()"
   ]
  },
  {
   "cell_type": "code",
   "execution_count": 43,
   "metadata": {},
   "outputs": [],
   "source": [
    "new_df['sex'] = new_df['sex'].map({'m':0, 'f':1})"
   ]
  },
  {
   "cell_type": "code",
   "execution_count": 44,
   "metadata": {},
   "outputs": [
    {
     "data": {
      "text/plain": [
       "0    15140\n",
       "1    10062\n",
       "Name: sex, dtype: int64"
      ]
     },
     "execution_count": 44,
     "metadata": {},
     "output_type": "execute_result"
    }
   ],
   "source": [
    "new_df.sex.value_counts()"
   ]
  },
  {
   "cell_type": "markdown",
   "metadata": {},
   "source": [
    "# Let's investigate posible relationships\n"
   ]
  },
  {
   "cell_type": "code",
   "execution_count": 45,
   "metadata": {},
   "outputs": [
    {
     "name": "stdout",
     "output_type": "stream",
     "text": [
      "6     6802\n",
      "2     5742\n",
      "3     5366\n",
      "0     2191\n",
      "9     1843\n",
      "7     1312\n",
      "1      804\n",
      "11     464\n",
      "10     227\n",
      "4      191\n",
      "8      182\n",
      "5       78\n",
      "dtype: int64\n"
     ]
    },
    {
     "data": {
      "image/png": "[encoded data removed]",
      "text/plain": [
       "<Figure size 432x288 with 1 Axes>"
      ]
     },
     "metadata": {},
     "output_type": "display_data"
    }
   ],
   "source": [
    "body_type_responses = pd.value_counts(new_df['body_type'].values, sort=True)\n",
    "print(body_type_responses)\n",
    "ax = body_type_responses.plot(kind='bar', title='Body type responses')\n",
    "ax.set(xlabel='Body type', ylabel='Number of responses')\n",
    "plt.show()"
   ]
  },
  {
   "cell_type": "markdown",
   "metadata": {},
   "source": [
    "The most frecuent response was average (6), logicaly. But fit (2) and athletic(3) are second and third closest to the average. That made me suspicious about the honesty in that answer....\n",
    "<img src='https://external-content.duckduckgo.com/iu/?u=https%3A%2F%2Fmedia0.giphy.com%2Fmedia%2F4YWtPFasSBZMFrs7ML%2Fgiphy.gif&f=1&nofb=1'>\n",
    "We will let that pass for now!"
   ]
  },
  {
   "cell_type": "markdown",
   "metadata": {},
   "source": [
    "### A  good way to see relations that I found is  .corr"
   ]
  },
  {
   "cell_type": "code",
   "execution_count": 46,
   "metadata": {
    "scrolled": false
   },
   "outputs": [
    {
     "data": {
      "text/html": [
       "<div>\n",
       "<style scoped>\n",
       "    .dataframe tbody tr th:only-of-type {\n",
       "        vertical-align: middle;\n",
       "    }\n",
       "\n",
       "    .dataframe tbody tr th {\n",
       "        vertical-align: top;\n",
       "    }\n",
       "\n",
       "    .dataframe thead th {\n",
       "        text-align: right;\n",
       "    }\n",
       "</style>\n",
       "<table border=\"1\" class=\"dataframe\">\n",
       "  <thead>\n",
       "    <tr style=\"text-align: right;\">\n",
       "      <th></th>\n",
       "      <th>age</th>\n",
       "      <th>body_type</th>\n",
       "      <th>diet</th>\n",
       "      <th>drinks</th>\n",
       "      <th>drugs</th>\n",
       "      <th>height</th>\n",
       "      <th>sex</th>\n",
       "      <th>smokes</th>\n",
       "      <th>status</th>\n",
       "    </tr>\n",
       "  </thead>\n",
       "  <tbody>\n",
       "    <tr>\n",
       "      <th>age</th>\n",
       "      <td>1.000000</td>\n",
       "      <td>0.005085</td>\n",
       "      <td>-0.008922</td>\n",
       "      <td>-0.074401</td>\n",
       "      <td>-0.150182</td>\n",
       "      <td>-0.023773</td>\n",
       "      <td>0.044331</td>\n",
       "      <td>-0.149191</td>\n",
       "      <td>-0.018188</td>\n",
       "    </tr>\n",
       "    <tr>\n",
       "      <th>body_type</th>\n",
       "      <td>0.005085</td>\n",
       "      <td>1.000000</td>\n",
       "      <td>-0.025152</td>\n",
       "      <td>-0.018140</td>\n",
       "      <td>-0.000912</td>\n",
       "      <td>-0.081403</td>\n",
       "      <td>0.123142</td>\n",
       "      <td>0.047809</td>\n",
       "      <td>0.025413</td>\n",
       "    </tr>\n",
       "    <tr>\n",
       "      <th>diet</th>\n",
       "      <td>-0.008922</td>\n",
       "      <td>-0.025152</td>\n",
       "      <td>1.000000</td>\n",
       "      <td>-0.037127</td>\n",
       "      <td>0.086428</td>\n",
       "      <td>-0.009001</td>\n",
       "      <td>0.046377</td>\n",
       "      <td>0.026076</td>\n",
       "      <td>0.060961</td>\n",
       "    </tr>\n",
       "    <tr>\n",
       "      <th>drinks</th>\n",
       "      <td>-0.074401</td>\n",
       "      <td>-0.018140</td>\n",
       "      <td>-0.037127</td>\n",
       "      <td>1.000000</td>\n",
       "      <td>0.208362</td>\n",
       "      <td>0.032163</td>\n",
       "      <td>-0.011925</td>\n",
       "      <td>0.158737</td>\n",
       "      <td>-0.000053</td>\n",
       "    </tr>\n",
       "    <tr>\n",
       "      <th>drugs</th>\n",
       "      <td>-0.150182</td>\n",
       "      <td>-0.000912</td>\n",
       "      <td>0.086428</td>\n",
       "      <td>0.208362</td>\n",
       "      <td>1.000000</td>\n",
       "      <td>0.065304</td>\n",
       "      <td>-0.057845</td>\n",
       "      <td>0.350472</td>\n",
       "      <td>0.108872</td>\n",
       "    </tr>\n",
       "    <tr>\n",
       "      <th>height</th>\n",
       "      <td>-0.023773</td>\n",
       "      <td>-0.081403</td>\n",
       "      <td>-0.009001</td>\n",
       "      <td>0.032163</td>\n",
       "      <td>0.065304</td>\n",
       "      <td>1.000000</td>\n",
       "      <td>-0.585746</td>\n",
       "      <td>0.045036</td>\n",
       "      <td>0.004174</td>\n",
       "    </tr>\n",
       "    <tr>\n",
       "      <th>sex</th>\n",
       "      <td>0.044331</td>\n",
       "      <td>0.123142</td>\n",
       "      <td>0.046377</td>\n",
       "      <td>-0.011925</td>\n",
       "      <td>-0.057845</td>\n",
       "      <td>-0.585746</td>\n",
       "      <td>1.000000</td>\n",
       "      <td>-0.046987</td>\n",
       "      <td>0.007168</td>\n",
       "    </tr>\n",
       "    <tr>\n",
       "      <th>smokes</th>\n",
       "      <td>-0.149191</td>\n",
       "      <td>0.047809</td>\n",
       "      <td>0.026076</td>\n",
       "      <td>0.158737</td>\n",
       "      <td>0.350472</td>\n",
       "      <td>0.045036</td>\n",
       "      <td>-0.046987</td>\n",
       "      <td>1.000000</td>\n",
       "      <td>0.024209</td>\n",
       "    </tr>\n",
       "    <tr>\n",
       "      <th>status</th>\n",
       "      <td>-0.018188</td>\n",
       "      <td>0.025413</td>\n",
       "      <td>0.060961</td>\n",
       "      <td>-0.000053</td>\n",
       "      <td>0.108872</td>\n",
       "      <td>0.004174</td>\n",
       "      <td>0.007168</td>\n",
       "      <td>0.024209</td>\n",
       "      <td>1.000000</td>\n",
       "    </tr>\n",
       "  </tbody>\n",
       "</table>\n",
       "</div>"
      ],
      "text/plain": [
       "                age  body_type      diet    drinks     drugs    height  \\\n",
       "age        1.000000   0.005085 -0.008922 -0.074401 -0.150182 -0.023773   \n",
       "body_type  0.005085   1.000000 -0.025152 -0.018140 -0.000912 -0.081403   \n",
       "diet      -0.008922  -0.025152  1.000000 -0.037127  0.086428 -0.009001   \n",
       "drinks    -0.074401  -0.018140 -0.037127  1.000000  0.208362  0.032163   \n",
       "drugs     -0.150182  -0.000912  0.086428  0.208362  1.000000  0.065304   \n",
       "height    -0.023773  -0.081403 -0.009001  0.032163  0.065304  1.000000   \n",
       "sex        0.044331   0.123142  0.046377 -0.011925 -0.057845 -0.585746   \n",
       "smokes    -0.149191   0.047809  0.026076  0.158737  0.350472  0.045036   \n",
       "status    -0.018188   0.025413  0.060961 -0.000053  0.108872  0.004174   \n",
       "\n",
       "                sex    smokes    status  \n",
       "age        0.044331 -0.149191 -0.018188  \n",
       "body_type  0.123142  0.047809  0.025413  \n",
       "diet       0.046377  0.026076  0.060961  \n",
       "drinks    -0.011925  0.158737 -0.000053  \n",
       "drugs     -0.057845  0.350472  0.108872  \n",
       "height    -0.585746  0.045036  0.004174  \n",
       "sex        1.000000 -0.046987  0.007168  \n",
       "smokes    -0.046987  1.000000  0.024209  \n",
       "status     0.007168  0.024209  1.000000  "
      ]
     },
     "execution_count": 46,
     "metadata": {},
     "output_type": "execute_result"
    }
   ],
   "source": [
    "new_df.corr(method='kendall', min_periods=4)"
   ]
  },
  {
   "cell_type": "markdown",
   "metadata": {},
   "source": [
    "This is as meaningfull chart to determine the relationships between variables."
   ]
  },
  {
   "cell_type": "markdown",
   "metadata": {},
   "source": [
    "The hightest value is the relationships of sex and height. In the next graph we can see the obious relation between this two contiunous variables."
   ]
  },
  {
   "cell_type": "code",
   "execution_count": 47,
   "metadata": {
    "scrolled": false
   },
   "outputs": [
    {
     "data": {
      "text/plain": [
       "<AxesSubplot:xlabel='age', ylabel='height'>"
      ]
     },
     "execution_count": 47,
     "metadata": {},
     "output_type": "execute_result"
    },
    {
     "data": {
      "image/png": "[encoded data removed]",
      "text/plain": [
       "<Figure size 432x288 with 1 Axes>"
      ]
     },
     "metadata": {},
     "output_type": "display_data"
    }
   ],
   "source": [
    "\n",
    "sns.stripplot(x=\"age\",y=\"height\",data=df,jitter=True,hue='sex',palette='Set1')"
   ]
  },
  {
   "cell_type": "code",
   "execution_count": 48,
   "metadata": {},
   "outputs": [
    {
     "data": {
      "text/plain": [
       "<AxesSubplot:xlabel='drugs', ylabel='smokes'>"
      ]
     },
     "execution_count": 48,
     "metadata": {},
     "output_type": "execute_result"
    },
    {
     "data": {
      "image/png": "[encoded data removed]",
      "text/plain": [
       "<Figure size 432x288 with 1 Axes>"
      ]
     },
     "metadata": {},
     "output_type": "display_data"
    }
   ],
   "source": [
    "sns.stripplot(x=\"drugs\",y=\"smokes\",data=new_df,jitter=True,hue='sex',alpha=0.5 ,palette='Set1')"
   ]
  },
  {
   "cell_type": "markdown",
   "metadata": {},
   "source": [
    "# Machine Learning Models Experiments"
   ]
  },
  {
   "cell_type": "markdown",
   "metadata": {},
   "source": [
    "<img src='https://external-content.duckduckgo.com/iu/?u=https%3A%2F%2Fimg.freepik.com%2Fvector-gratis%2Fpasarela-desfile-moda-dibujada-mano-ilustrada_23-2148831545.jpg%3Fsize%3D626%26ext%3Djpg&f=1&nofb=1'>\n"
   ]
  },
  {
   "cell_type": "markdown",
   "metadata": {},
   "source": [
    "## First we preprocess the data and we made the division of the data frame in Train and Test"
   ]
  },
  {
   "cell_type": "code",
   "execution_count": 49,
   "metadata": {},
   "outputs": [],
   "source": [
    "#Standardize and preprocess the column numbers for the models:\n",
    "\n",
    "train_data_drugs,test_data_drugs, train_labels_drugs, test_labels_drugs = train_test_split(new_df[['age','drinks','smokes', 'body_type', 'diet', 'status', 'sex']],\n",
    "                                                                   new_df['drugs'],test_size = 0.2, random_state = 100)\n",
    "\n",
    "from sklearn.preprocessing import StandardScaler\n",
    "scaler_drugs = StandardScaler()\n",
    "train_features_drugs = scaler_drugs.fit_transform(train_data_drugs)\n",
    "test_features_drugs = scaler_drugs.transform(test_data_drugs)"
   ]
  },
  {
   "cell_type": "markdown",
   "metadata": {},
   "source": [
    "I want to know who long takes each model"
   ]
  },
  {
   "cell_type": "code",
   "execution_count": 50,
   "metadata": {},
   "outputs": [],
   "source": [
    "# import time\n",
    "from time import time"
   ]
  },
  {
   "cell_type": "markdown",
   "metadata": {},
   "source": [
    "### First aproximation\n",
    "Simple linear Regresion - Ordinary Least Squares"
   ]
  },
  {
   "cell_type": "code",
   "execution_count": 51,
   "metadata": {},
   "outputs": [],
   "source": [
    "from sklearn import linear_model\n",
    "\n",
    "#Standardized\n",
    "start = time()\n",
    "model_drugs_slr_s= linear_model.LinearRegression()\n",
    "model_drugs_slr_s.fit(train_features_drugs,train_labels_drugs)\n",
    "done = time()\n",
    "sc_lr_s = model_drugs_slr_s.score(test_features_drugs, test_labels_drugs)\n",
    "t_lr_s = done - start"
   ]
  },
  {
   "cell_type": "code",
   "execution_count": 52,
   "metadata": {},
   "outputs": [],
   "source": [
    "#Not Standardize\n",
    "start = time()\n",
    "model_drugs_slr_ns = linear_model.LinearRegression()\n",
    "model_drugs_slr_ns.fit(train_data_drugs,train_labels_drugs)\n",
    "done = time()\n",
    "sc_lr_ns = model_drugs_slr_ns.score(test_data_drugs, test_labels_drugs)\n",
    "t_lr_ns = done - start\n"
   ]
  },
  {
   "cell_type": "code",
   "execution_count": 53,
   "metadata": {},
   "outputs": [
    {
     "name": "stdout",
     "output_type": "stream",
     "text": [
      "Model score -  Linear Regerssion - Standaririze data: 0.1835795699955891\n",
      "Time took 0.007003307342529297 seconds\n",
      "______________________________\n",
      "Model score -  Linear Regerssion - not standarize data: 0.18357956999558922\n",
      "Time took 0.010002851486206055 seconds\n"
     ]
    }
   ],
   "source": [
    "print('Model score - ', 'Linear Regerssion - Standaririze data:', sc_lr_s)\n",
    "print('Time took', t_lr_s, 'seconds')\n",
    "print('______________________________')\n",
    "print('Model score - ', 'Linear Regerssion - not standarize data:', sc_lr_ns)\n",
    "print('Time took', t_lr_ns, 'seconds')"
   ]
  },
  {
   "cell_type": "markdown",
   "metadata": {},
   "source": [
    "It's a horrible result 🤢, we are not in a regression problem, we are in a classification problem so let's try some clasification algorithms "
   ]
  },
  {
   "cell_type": "markdown",
   "metadata": {},
   "source": [
    "## To the correct models"
   ]
  },
  {
   "cell_type": "markdown",
   "metadata": {},
   "source": [
    "Let's try the Ridge Classifier\n",
    "\n",
    "https://scikit-learn.org/stable/modules/linear_model.html#ridge-regression-and-classification\n",
    "\n",
    "https://scikit-learn.org/stable/modules/generated/sklearn.linear_model.RidgeClassifier.html#sklearn.linear_model.RidgeClassifier"
   ]
  },
  {
   "cell_type": "code",
   "execution_count": 54,
   "metadata": {},
   "outputs": [],
   "source": [
    "#Standardized\n",
    "start = time()\n",
    "model_drugs_RC_s = linear_model.RidgeClassifier()\n",
    "model_drugs_RC_s.fit(train_features_drugs,train_labels_drugs)\n",
    "done = time()\n",
    "sc_RC_s = model_drugs_RC_s.score(test_features_drugs, test_labels_drugs)\n",
    "t_RC_s = done - start"
   ]
  },
  {
   "cell_type": "code",
   "execution_count": 55,
   "metadata": {},
   "outputs": [],
   "source": [
    "#Not Standardized\n",
    "start = time()\n",
    "model_drugs_RC_ns = linear_model.RidgeClassifier()\n",
    "model_drugs_RC_ns.fit(train_data_drugs,train_labels_drugs)\n",
    "done = time()\n",
    "sc_RC_ns = model_drugs_RC_ns.score(test_data_drugs, test_labels_drugs)\n",
    "t_RC_ns = done - start"
   ]
  },
  {
   "cell_type": "code",
   "execution_count": 56,
   "metadata": {
    "scrolled": false
   },
   "outputs": [
    {
     "name": "stdout",
     "output_type": "stream",
     "text": [
      "Model score -  Linear Regerssion - Standaririze data: 0.8123388216623686 . Time took 0.021001815795898438 seconds\n",
      "------------------------------------------------------------------------------------------------------------------\n",
      "Model score -  Linear Regerssion - not standarize data: 0.8123388216623686 . Time took 0.021005868911743164 seconds\n"
     ]
    }
   ],
   "source": [
    "# Shows frist results\n",
    "print('Model score - ', 'Linear Regerssion - Standaririze data:', sc_RC_s,'. Time took', t_RC_s, 'seconds')\n",
    "print('------------------------------------------------------------------------------------------------------------------')\n",
    "print('Model score - ', 'Linear Regerssion - not standarize data:', sc_RC_ns,'. Time took', t_RC_ns, 'seconds')\n"
   ]
  },
  {
   "cell_type": "code",
   "execution_count": 57,
   "metadata": {},
   "outputs": [
    {
     "data": {
      "text/html": [
       "<div>\n",
       "<style scoped>\n",
       "    .dataframe tbody tr th:only-of-type {\n",
       "        vertical-align: middle;\n",
       "    }\n",
       "\n",
       "    .dataframe tbody tr th {\n",
       "        vertical-align: top;\n",
       "    }\n",
       "\n",
       "    .dataframe thead th {\n",
       "        text-align: right;\n",
       "    }\n",
       "</style>\n",
       "<table border=\"1\" class=\"dataframe\">\n",
       "  <thead>\n",
       "    <tr style=\"text-align: right;\">\n",
       "      <th></th>\n",
       "      <th>age</th>\n",
       "      <th>drinks</th>\n",
       "      <th>smokes</th>\n",
       "      <th>body_type</th>\n",
       "      <th>diet</th>\n",
       "      <th>status</th>\n",
       "      <th>sex</th>\n",
       "      <th>Time to calc</th>\n",
       "      <th>Type of data</th>\n",
       "      <th>model</th>\n",
       "    </tr>\n",
       "  </thead>\n",
       "  <tbody>\n",
       "    <tr>\n",
       "      <th>0</th>\n",
       "      <td>0.075927</td>\n",
       "      <td>-0.129465</td>\n",
       "      <td>-0.217464</td>\n",
       "      <td>0.004675</td>\n",
       "      <td>-0.064851</td>\n",
       "      <td>-0.059686</td>\n",
       "      <td>0.034890</td>\n",
       "      <td>0.021002</td>\n",
       "      <td>Standarized</td>\n",
       "      <td>Ridge Classifier</td>\n",
       "    </tr>\n",
       "    <tr>\n",
       "      <th>1</th>\n",
       "      <td>0.007717</td>\n",
       "      <td>-0.170760</td>\n",
       "      <td>-0.217794</td>\n",
       "      <td>0.001707</td>\n",
       "      <td>-0.029454</td>\n",
       "      <td>-0.146174</td>\n",
       "      <td>0.071263</td>\n",
       "      <td>0.021006</td>\n",
       "      <td>Not standarized</td>\n",
       "      <td>Ridge Classifier</td>\n",
       "    </tr>\n",
       "  </tbody>\n",
       "</table>\n",
       "</div>"
      ],
      "text/plain": [
       "        age    drinks    smokes  body_type      diet    status       sex  \\\n",
       "0  0.075927 -0.129465 -0.217464   0.004675 -0.064851 -0.059686  0.034890   \n",
       "1  0.007717 -0.170760 -0.217794   0.001707 -0.029454 -0.146174  0.071263   \n",
       "\n",
       "   Time to calc     Type of data             model  \n",
       "0      0.021002      Standarized  Ridge Classifier  \n",
       "1      0.021006  Not standarized  Ridge Classifier  "
      ]
     },
     "execution_count": 57,
     "metadata": {},
     "output_type": "execute_result"
    }
   ],
   "source": [
    "coefficients_RC_s = model_drugs_RC_s.coef_\n",
    "coefficients_RC_ns = model_drugs_RC_ns.coef_\n",
    "coeflist_RC_s = coefficients_RC_s.tolist()[0]\n",
    "coeflist_RC_ns = coefficients_RC_ns.tolist()[0]\n",
    "RC_coef = [coeflist_RC_s, coeflist_RC_ns]\n",
    "\n",
    "df_RC = DataFrame(RC_coef)\n",
    "df_RC.columns = ['age','drinks','smokes', 'body_type', 'diet', 'status', 'sex']\n",
    "df_RC['Time to calc'] = [t_RC_s, t_RC_ns]\n",
    "df_RC['Type of data'] = ['Standarized', 'Not standarized']\n",
    "df_RC['model'] = 'Ridge Classifier'\n",
    "df_RC"
   ]
  },
  {
   "cell_type": "code",
   "execution_count": 58,
   "metadata": {},
   "outputs": [
    {
     "data": {
      "image/png": "[encoded data removed]",
      "text/plain": [
       "<Figure size 432x288 with 1 Axes>"
      ]
     },
     "metadata": {},
     "output_type": "display_data"
    }
   ],
   "source": [
    "# create plot\n",
    "labels = ['age','drinks','smokes', 'body_type', 'diet', 'status', 'sex']\n",
    "\n",
    "x = np.arange(len(labels))  # the label locations\n",
    "width = 0.35  # the width of the bars\n",
    "\n",
    "fig, ax = plt.subplots()\n",
    "rects1 = ax.bar(x - width/2, coeflist_RC_s, width, label='Standarized')\n",
    "rects2 = ax.bar(x + width/2, coeflist_RC_ns, width, label='Not Standarized')\n",
    "\n",
    "# Add some text for labels, title and custom x-axis tick labels, etc.\n",
    "ax.set_ylabel('Influence')\n",
    "ax.set_title('Scores by group and gender')\n",
    "ax.set_xticks(x)\n",
    "ax.set_xticklabels(labels)\n",
    "ax.legend()\n",
    "\n",
    "fig.tight_layout()\n",
    "\n",
    "plt.show()"
   ]
  },
  {
   "cell_type": "markdown",
   "metadata": {},
   "source": [
    "# Logistic Regerssion"
   ]
  },
  {
   "cell_type": "markdown",
   "metadata": {},
   "source": [
    "Logistic Regression\n",
    "\n",
    "https://scikit-learn.org/stable/modules/linear_model.html#logistic-regression\n",
    "\n",
    "https://scikit-learn.org/stable/modules/generated/sklearn.linear_model.LogisticRegression.html#sklearn.linear_model.LogisticRegression"
   ]
  },
  {
   "cell_type": "code",
   "execution_count": 59,
   "metadata": {},
   "outputs": [],
   "source": [
    "from sklearn.linear_model import LogisticRegression\n",
    "\n",
    "#Standardized\n",
    "start = time()\n",
    "model_drugs_LR_s = LogisticRegression()\n",
    "model_drugs_LR_s.fit(train_features_drugs,train_labels_drugs)\n",
    "done = time()\n",
    "sc_LR_s = model_drugs_LR_s.score(test_features_drugs, test_labels_drugs)\n",
    "t_LR_s = done - start"
   ]
  },
  {
   "cell_type": "code",
   "execution_count": 60,
   "metadata": {},
   "outputs": [
    {
     "name": "stderr",
     "output_type": "stream",
     "text": [
      "c:\\users\\fer\\appdata\\local\\programs\\python\\python37-32\\lib\\site-packages\\sklearn\\linear_model\\_logistic.py:765: ConvergenceWarning: lbfgs failed to converge (status=1):\n",
      "STOP: TOTAL NO. of ITERATIONS REACHED LIMIT.\n",
      "\n",
      "Increase the number of iterations (max_iter) or scale the data as shown in:\n",
      "    https://scikit-learn.org/stable/modules/preprocessing.html\n",
      "Please also refer to the documentation for alternative solver options:\n",
      "    https://scikit-learn.org/stable/modules/linear_model.html#logistic-regression\n",
      "  extra_warning_msg=_LOGISTIC_SOLVER_CONVERGENCE_MSG)\n"
     ]
    }
   ],
   "source": [
    "#Not Standardized\n",
    "start = time()\n",
    "model_drugs_LR_ns = LogisticRegression()\n",
    "model_drugs_LR_ns.fit(train_data_drugs,train_labels_drugs)\n",
    "done = time()\n",
    "sc_LR_ns = model_drugs_LR_s.score(test_data_drugs, test_labels_drugs)\n",
    "t_LR_ns =  done - start"
   ]
  },
  {
   "cell_type": "code",
   "execution_count": 61,
   "metadata": {},
   "outputs": [
    {
     "name": "stdout",
     "output_type": "stream",
     "text": [
      "Model score -  Logistic Regerssion - Standaririze data: 0.814719301725848 . Time took 0.31699705123901367 seconds\n",
      "------------------------------------------------------------------------------------------------------------------\n",
      "Model score -  Logisrtic Regerssion - not standarize data: 0.8026185280698274 . Time took 0.9540121555328369 seconds\n"
     ]
    }
   ],
   "source": [
    "# Shows frist results\n",
    "print('Model score - ', 'Logistic Regerssion - Standaririze data:', sc_LR_s,'. Time took', t_LR_s, 'seconds')\n",
    "print('------------------------------------------------------------------------------------------------------------------')\n",
    "print('Model score - ', 'Logisrtic Regerssion - not standarize data:', sc_LR_ns,'. Time took', t_LR_ns, 'seconds')\n"
   ]
  },
  {
   "cell_type": "code",
   "execution_count": 62,
   "metadata": {},
   "outputs": [
    {
     "data": {
      "text/html": [
       "<div>\n",
       "<style scoped>\n",
       "    .dataframe tbody tr th:only-of-type {\n",
       "        vertical-align: middle;\n",
       "    }\n",
       "\n",
       "    .dataframe tbody tr th {\n",
       "        vertical-align: top;\n",
       "    }\n",
       "\n",
       "    .dataframe thead th {\n",
       "        text-align: right;\n",
       "    }\n",
       "</style>\n",
       "<table border=\"1\" class=\"dataframe\">\n",
       "  <thead>\n",
       "    <tr style=\"text-align: right;\">\n",
       "      <th></th>\n",
       "      <th>age</th>\n",
       "      <th>drinks</th>\n",
       "      <th>smokes</th>\n",
       "      <th>body_type</th>\n",
       "      <th>diet</th>\n",
       "      <th>status</th>\n",
       "      <th>sex</th>\n",
       "      <th>Time to calc</th>\n",
       "      <th>Type of data</th>\n",
       "      <th>model</th>\n",
       "    </tr>\n",
       "  </thead>\n",
       "  <tbody>\n",
       "    <tr>\n",
       "      <th>0</th>\n",
       "      <td>0.474768</td>\n",
       "      <td>-0.393872</td>\n",
       "      <td>-0.453313</td>\n",
       "      <td>-0.011208</td>\n",
       "      <td>-0.202003</td>\n",
       "      <td>-0.119496</td>\n",
       "      <td>0.141284</td>\n",
       "      <td>0.316997</td>\n",
       "      <td>Standarized</td>\n",
       "      <td>Ridge Classifier</td>\n",
       "    </tr>\n",
       "    <tr>\n",
       "      <th>1</th>\n",
       "      <td>0.077693</td>\n",
       "      <td>-0.471468</td>\n",
       "      <td>-0.428483</td>\n",
       "      <td>0.010540</td>\n",
       "      <td>-0.087662</td>\n",
       "      <td>-0.257416</td>\n",
       "      <td>0.230559</td>\n",
       "      <td>0.954012</td>\n",
       "      <td>Not standarized</td>\n",
       "      <td>Ridge Classifier</td>\n",
       "    </tr>\n",
       "  </tbody>\n",
       "</table>\n",
       "</div>"
      ],
      "text/plain": [
       "        age    drinks    smokes  body_type      diet    status       sex  \\\n",
       "0  0.474768 -0.393872 -0.453313  -0.011208 -0.202003 -0.119496  0.141284   \n",
       "1  0.077693 -0.471468 -0.428483   0.010540 -0.087662 -0.257416  0.230559   \n",
       "\n",
       "   Time to calc     Type of data             model  \n",
       "0      0.316997      Standarized  Ridge Classifier  \n",
       "1      0.954012  Not standarized  Ridge Classifier  "
      ]
     },
     "execution_count": 62,
     "metadata": {},
     "output_type": "execute_result"
    }
   ],
   "source": [
    "coefficients_LR_s = model_drugs_LR_s.coef_\n",
    "coefficients_LR_ns = model_drugs_LR_ns.coef_\n",
    "coeflist_LR_s = coefficients_LR_s.tolist()[0]\n",
    "coeflist_LR_ns = coefficients_LR_ns.tolist()[0]\n",
    "LR_coef = [coeflist_LR_s, coeflist_LR_ns]\n",
    "\n",
    "df_LR = DataFrame(LR_coef)\n",
    "df_LR.columns = ['age','drinks','smokes', 'body_type', 'diet', 'status', 'sex']\n",
    "df_LR['Time to calc'] = [t_LR_s, t_LR_ns]\n",
    "df_LR['Type of data'] = ['Standarized', 'Not standarized']\n",
    "df_LR['model'] = 'Ridge Classifier'\n",
    "df_LR"
   ]
  },
  {
   "cell_type": "code",
   "execution_count": 63,
   "metadata": {},
   "outputs": [
    {
     "data": {
      "image/png": "[encoded data removed]",
      "text/plain": [
       "<Figure size 432x288 with 1 Axes>"
      ]
     },
     "metadata": {},
     "output_type": "display_data"
    }
   ],
   "source": [
    "# create plot\n",
    "labels = ['age','drinks','smokes', 'body_type', 'diet', 'status', 'sex']\n",
    "\n",
    "x = np.arange(len(labels))  # the label locations\n",
    "width = 0.35  # the width of the bars\n",
    "\n",
    "fig, ax = plt.subplots()\n",
    "rects1 = ax.bar(x - width/2, coeflist_LR_s, width, label='Standarized')\n",
    "rects2 = ax.bar(x + width/2, coeflist_LR_ns, width, label='Not Standarized')\n",
    "\n",
    "# Add some text for labels, title and custom x-axis tick labels, etc.\n",
    "ax.set_ylabel('Influence')\n",
    "ax.set_title('Scores by group and gender')\n",
    "ax.set_xticks(x)\n",
    "ax.set_xticklabels(labels)\n",
    "ax.legend()\n",
    "\n",
    "fig.tight_layout()\n",
    "\n",
    "plt.show()"
   ]
  },
  {
   "cell_type": "markdown",
   "metadata": {},
   "source": [
    "## Logistic Regression CV\n",
    "\n",
    "https://scikit-learn.org/stable/modules/generated/sklearn.linear_model.LogisticRegressionCV.html?highlight=logisticregressioncv#sklearn.linear_model.LogisticRegressionCVz"
   ]
  },
  {
   "cell_type": "code",
   "execution_count": 64,
   "metadata": {},
   "outputs": [],
   "source": [
    "#Standardized\n",
    "start = time()\n",
    "from sklearn.linear_model import LogisticRegressionCV\n",
    "model_drugs_LRCV_s = LogisticRegressionCV()\n",
    "model_drugs_LRCV_s.fit(train_features_drugs,train_labels_drugs)\n",
    "done = time()\n",
    "\n",
    "sc_LRCV_s = model_drugs_LRCV_s.score(test_features_drugs, test_labels_drugs)\n",
    "t_LRCV_s = done - start"
   ]
  },
  {
   "cell_type": "code",
   "execution_count": 65,
   "metadata": {
    "scrolled": true
   },
   "outputs": [
    {
     "name": "stderr",
     "output_type": "stream",
     "text": [
      "c:\\users\\fer\\appdata\\local\\programs\\python\\python37-32\\lib\\site-packages\\sklearn\\linear_model\\_logistic.py:765: ConvergenceWarning: lbfgs failed to converge (status=1):\n",
      "STOP: TOTAL NO. of ITERATIONS REACHED LIMIT.\n",
      "\n",
      "Increase the number of iterations (max_iter) or scale the data as shown in:\n",
      "    https://scikit-learn.org/stable/modules/preprocessing.html\n",
      "Please also refer to the documentation for alternative solver options:\n",
      "    https://scikit-learn.org/stable/modules/linear_model.html#logistic-regression\n",
      "  extra_warning_msg=_LOGISTIC_SOLVER_CONVERGENCE_MSG)\n",
      "c:\\users\\fer\\appdata\\local\\programs\\python\\python37-32\\lib\\site-packages\\sklearn\\linear_model\\_logistic.py:765: ConvergenceWarning: lbfgs failed to converge (status=1):\n",
      "STOP: TOTAL NO. of ITERATIONS REACHED LIMIT.\n",
      "\n",
      "Increase the number of iterations (max_iter) or scale the data as shown in:\n",
      "    https://scikit-learn.org/stable/modules/preprocessing.html\n",
      "Please also refer to the documentation for alternative solver options:\n",
      "    https://scikit-learn.org/stable/modules/linear_model.html#logistic-regression\n",
      "  extra_warning_msg=_LOGISTIC_SOLVER_CONVERGENCE_MSG)\n",
      "c:\\users\\fer\\appdata\\local\\programs\\python\\python37-32\\lib\\site-packages\\sklearn\\linear_model\\_logistic.py:765: ConvergenceWarning: lbfgs failed to converge (status=1):\n",
      "STOP: TOTAL NO. of ITERATIONS REACHED LIMIT.\n",
      "\n",
      "Increase the number of iterations (max_iter) or scale the data as shown in:\n",
      "    https://scikit-learn.org/stable/modules/preprocessing.html\n",
      "Please also refer to the documentation for alternative solver options:\n",
      "    https://scikit-learn.org/stable/modules/linear_model.html#logistic-regression\n",
      "  extra_warning_msg=_LOGISTIC_SOLVER_CONVERGENCE_MSG)\n",
      "c:\\users\\fer\\appdata\\local\\programs\\python\\python37-32\\lib\\site-packages\\sklearn\\linear_model\\_logistic.py:765: ConvergenceWarning: lbfgs failed to converge (status=1):\n",
      "STOP: TOTAL NO. of ITERATIONS REACHED LIMIT.\n",
      "\n",
      "Increase the number of iterations (max_iter) or scale the data as shown in:\n",
      "    https://scikit-learn.org/stable/modules/preprocessing.html\n",
      "Please also refer to the documentation for alternative solver options:\n",
      "    https://scikit-learn.org/stable/modules/linear_model.html#logistic-regression\n",
      "  extra_warning_msg=_LOGISTIC_SOLVER_CONVERGENCE_MSG)\n",
      "c:\\users\\fer\\appdata\\local\\programs\\python\\python37-32\\lib\\site-packages\\sklearn\\linear_model\\_logistic.py:765: ConvergenceWarning: lbfgs failed to converge (status=1):\n",
      "STOP: TOTAL NO. of ITERATIONS REACHED LIMIT.\n",
      "\n",
      "Increase the number of iterations (max_iter) or scale the data as shown in:\n",
      "    https://scikit-learn.org/stable/modules/preprocessing.html\n",
      "Please also refer to the documentation for alternative solver options:\n",
      "    https://scikit-learn.org/stable/modules/linear_model.html#logistic-regression\n",
      "  extra_warning_msg=_LOGISTIC_SOLVER_CONVERGENCE_MSG)\n",
      "c:\\users\\fer\\appdata\\local\\programs\\python\\python37-32\\lib\\site-packages\\sklearn\\linear_model\\_logistic.py:765: ConvergenceWarning: lbfgs failed to converge (status=1):\n",
      "STOP: TOTAL NO. of ITERATIONS REACHED LIMIT.\n",
      "\n",
      "Increase the number of iterations (max_iter) or scale the data as shown in:\n",
      "    https://scikit-learn.org/stable/modules/preprocessing.html\n",
      "Please also refer to the documentation for alternative solver options:\n",
      "    https://scikit-learn.org/stable/modules/linear_model.html#logistic-regression\n",
      "  extra_warning_msg=_LOGISTIC_SOLVER_CONVERGENCE_MSG)\n"
     ]
    }
   ],
   "source": [
    "#Not Standardized\n",
    "start = time()\n",
    "from sklearn.linear_model import LogisticRegressionCV\n",
    "model_drugs_LRCV_ns = LogisticRegressionCV()\n",
    "model_drugs_LRCV_ns.fit(train_data_drugs,train_labels_drugs)\n",
    "done = time()\n",
    "\n",
    "\n",
    "sc_LRCV_ns = model_drugs_LRCV_ns.score(test_data_drugs, test_labels_drugs)\n",
    "t_LRCV_ns = done -start"
   ]
  },
  {
   "cell_type": "code",
   "execution_count": 66,
   "metadata": {},
   "outputs": [
    {
     "name": "stdout",
     "output_type": "stream",
     "text": [
      "Model score -  Logistic Regerssion CV - Standaririze data: 0.8149176750644713 . Time took 5.104998588562012 seconds\n",
      "------------------------------------------------------------------------------------------------------------------\n",
      "Model score -  Logisrtic Regerssion CV- not standarize data: 0.814719301725848 . Time took 24.71337604522705 seconds\n"
     ]
    }
   ],
   "source": [
    "# Shows frist results\n",
    "print('Model score - ', 'Logistic Regerssion CV - Standaririze data:', sc_LRCV_s,'. Time took', t_LRCV_s, 'seconds')\n",
    "print('------------------------------------------------------------------------------------------------------------------')\n",
    "print('Model score - ', 'Logisrtic Regerssion CV- not standarize data:', sc_LRCV_ns,'. Time took', t_LRCV_ns, 'seconds')"
   ]
  },
  {
   "cell_type": "code",
   "execution_count": 67,
   "metadata": {},
   "outputs": [
    {
     "data": {
      "text/html": [
       "<div>\n",
       "<style scoped>\n",
       "    .dataframe tbody tr th:only-of-type {\n",
       "        vertical-align: middle;\n",
       "    }\n",
       "\n",
       "    .dataframe tbody tr th {\n",
       "        vertical-align: top;\n",
       "    }\n",
       "\n",
       "    .dataframe thead th {\n",
       "        text-align: right;\n",
       "    }\n",
       "</style>\n",
       "<table border=\"1\" class=\"dataframe\">\n",
       "  <thead>\n",
       "    <tr style=\"text-align: right;\">\n",
       "      <th></th>\n",
       "      <th>age</th>\n",
       "      <th>drinks</th>\n",
       "      <th>smokes</th>\n",
       "      <th>body_type</th>\n",
       "      <th>diet</th>\n",
       "      <th>status</th>\n",
       "      <th>sex</th>\n",
       "      <th>Time to calc</th>\n",
       "      <th>Type of data</th>\n",
       "      <th>model</th>\n",
       "    </tr>\n",
       "  </thead>\n",
       "  <tbody>\n",
       "    <tr>\n",
       "      <th>0</th>\n",
       "      <td>0.294335</td>\n",
       "      <td>-0.349956</td>\n",
       "      <td>-0.425738</td>\n",
       "      <td>-0.002123</td>\n",
       "      <td>-0.175899</td>\n",
       "      <td>-0.105707</td>\n",
       "      <td>0.102314</td>\n",
       "      <td>5.104999</td>\n",
       "      <td>Standarized</td>\n",
       "      <td>Ridge Classifier</td>\n",
       "    </tr>\n",
       "    <tr>\n",
       "      <th>1</th>\n",
       "      <td>0.049415</td>\n",
       "      <td>-0.499990</td>\n",
       "      <td>-0.452459</td>\n",
       "      <td>-0.002627</td>\n",
       "      <td>-0.092072</td>\n",
       "      <td>-0.280808</td>\n",
       "      <td>0.268526</td>\n",
       "      <td>24.713376</td>\n",
       "      <td>Not standarized</td>\n",
       "      <td>Ridge Classifier</td>\n",
       "    </tr>\n",
       "  </tbody>\n",
       "</table>\n",
       "</div>"
      ],
      "text/plain": [
       "        age    drinks    smokes  body_type      diet    status       sex  \\\n",
       "0  0.294335 -0.349956 -0.425738  -0.002123 -0.175899 -0.105707  0.102314   \n",
       "1  0.049415 -0.499990 -0.452459  -0.002627 -0.092072 -0.280808  0.268526   \n",
       "\n",
       "   Time to calc     Type of data             model  \n",
       "0      5.104999      Standarized  Ridge Classifier  \n",
       "1     24.713376  Not standarized  Ridge Classifier  "
      ]
     },
     "execution_count": 67,
     "metadata": {},
     "output_type": "execute_result"
    }
   ],
   "source": [
    "coefficients_LRCV_s = model_drugs_LRCV_s.coef_\n",
    "coefficients_LRCV_ns = model_drugs_LRCV_ns.coef_\n",
    "coeflist_LRCV_s = coefficients_LRCV_s.tolist()[0]\n",
    "coeflist_LRCV_ns = coefficients_LRCV_ns.tolist()[0]\n",
    "LRCV_coef = [coeflist_LRCV_s, coeflist_LRCV_ns]\n",
    "\n",
    "df_LRCV = DataFrame(LRCV_coef)\n",
    "df_LRCV.columns = ['age','drinks','smokes', 'body_type', 'diet', 'status', 'sex']\n",
    "df_LRCV['Time to calc'] = [t_LRCV_s, t_LRCV_ns]\n",
    "df_LRCV['Type of data'] = ['Standarized', 'Not standarized']\n",
    "df_LRCV['model'] = 'Ridge Classifier'\n",
    "df_LRCV"
   ]
  },
  {
   "cell_type": "code",
   "execution_count": 68,
   "metadata": {},
   "outputs": [
    {
     "data": {
      "image/png": "[encoded data removed]",
      "text/plain": [
       "<Figure size 432x288 with 1 Axes>"
      ]
     },
     "metadata": {},
     "output_type": "display_data"
    }
   ],
   "source": [
    "# create plot\n",
    "labels = ['age','drinks','smokes', 'body_type', 'diet', 'status', 'sex']\n",
    "\n",
    "x = np.arange(len(labels))  # the label locations\n",
    "width = 0.35  # the width of the bars\n",
    "\n",
    "fig, ax = plt.subplots()\n",
    "rects1 = ax.bar(x - width/2, coeflist_LRCV_s, width, label='Standarized')\n",
    "rects2 = ax.bar(x + width/2, coeflist_LRCV_ns, width, label='Not Standarized')\n",
    "\n",
    "# Add some text for labels, title and custom x-axis tick labels, etc.\n",
    "ax.set_ylabel('Influence')\n",
    "ax.set_title('Scores by group and gender')\n",
    "ax.set_xticks(x)\n",
    "ax.set_xticklabels(labels)\n",
    "ax.legend()\n",
    "\n",
    "fig.tight_layout()\n",
    "\n",
    "plt.show()"
   ]
  },
  {
   "cell_type": "markdown",
   "metadata": {},
   "source": [
    "## Perceptron\n",
    "\n",
    "https://scikit-learn.org/stable/modules/linear_model.html#perceptron\n",
    "\n",
    "https://scikit-learn.org/stable/modules/generated/sklearn.linear_model.Perceptron.html#sklearn.linear_model.Perceptron"
   ]
  },
  {
   "cell_type": "markdown",
   "metadata": {},
   "source": [
    "Standardized"
   ]
  },
  {
   "cell_type": "code",
   "execution_count": 69,
   "metadata": {},
   "outputs": [],
   "source": [
    "start = time()\n",
    "from sklearn.linear_model import Perceptron\n",
    "model_drugs_P_s = Perceptron()\n",
    "model_drugs_P_s.fit(train_features_drugs,train_labels_drugs)\n",
    "done = time()\n",
    "\n",
    "sc_P_s = model_drugs_P_s.score(test_features_drugs, test_labels_drugs)\n",
    "t_P_s = done - start"
   ]
  },
  {
   "cell_type": "markdown",
   "metadata": {},
   "source": [
    "Not Standardized"
   ]
  },
  {
   "cell_type": "code",
   "execution_count": 70,
   "metadata": {},
   "outputs": [],
   "source": [
    "start = time()\n",
    "from sklearn.linear_model import Perceptron\n",
    "model_drugs_P_ns = Perceptron()\n",
    "model_drugs_P_ns.fit(train_data_drugs,train_labels_drugs)\n",
    "done = time()\n",
    "\n",
    "sc_P_ns = model_drugs_P_ns.score(test_data_drugs, test_labels_drugs)\n",
    "t_P_ns = done - start"
   ]
  },
  {
   "cell_type": "code",
   "execution_count": 71,
   "metadata": {},
   "outputs": [
    {
     "name": "stdout",
     "output_type": "stream",
     "text": [
      "Model score -  Perceptron - Standaririze data: 0.7097798055941281 . Time took 0.07999944686889648 seconds\n",
      "------------------------------------------------------------------------------------------------------------------\n",
      "Model score -  Perceptron - not standarize data: 0.813330688355485 . Time took 0.05699944496154785 seconds\n"
     ]
    }
   ],
   "source": [
    "# Shows frist results\n",
    "print('Model score - ', 'Perceptron - Standaririze data:', sc_P_s,'. Time took', t_P_s, 'seconds')\n",
    "print('------------------------------------------------------------------------------------------------------------------')\n",
    "print('Model score - ', 'Perceptron - not standarize data:', sc_P_ns,'. Time took', t_P_ns, 'seconds')"
   ]
  },
  {
   "cell_type": "code",
   "execution_count": 72,
   "metadata": {},
   "outputs": [
    {
     "data": {
      "text/html": [
       "<div>\n",
       "<style scoped>\n",
       "    .dataframe tbody tr th:only-of-type {\n",
       "        vertical-align: middle;\n",
       "    }\n",
       "\n",
       "    .dataframe tbody tr th {\n",
       "        vertical-align: top;\n",
       "    }\n",
       "\n",
       "    .dataframe thead th {\n",
       "        text-align: right;\n",
       "    }\n",
       "</style>\n",
       "<table border=\"1\" class=\"dataframe\">\n",
       "  <thead>\n",
       "    <tr style=\"text-align: right;\">\n",
       "      <th></th>\n",
       "      <th>age</th>\n",
       "      <th>drinks</th>\n",
       "      <th>smokes</th>\n",
       "      <th>body_type</th>\n",
       "      <th>diet</th>\n",
       "      <th>status</th>\n",
       "      <th>sex</th>\n",
       "      <th>Time to calc</th>\n",
       "      <th>Type of data</th>\n",
       "      <th>model</th>\n",
       "    </tr>\n",
       "  </thead>\n",
       "  <tbody>\n",
       "    <tr>\n",
       "      <th>0</th>\n",
       "      <td>-4.541042</td>\n",
       "      <td>1.672962</td>\n",
       "      <td>-2.842265</td>\n",
       "      <td>3.529367</td>\n",
       "      <td>0.502348</td>\n",
       "      <td>-2.90922</td>\n",
       "      <td>-1.626689</td>\n",
       "      <td>0.079999</td>\n",
       "      <td>Standarized</td>\n",
       "      <td>Perceptron</td>\n",
       "    </tr>\n",
       "    <tr>\n",
       "      <th>1</th>\n",
       "      <td>29.000000</td>\n",
       "      <td>-229.000000</td>\n",
       "      <td>-160.000000</td>\n",
       "      <td>-25.000000</td>\n",
       "      <td>-33.000000</td>\n",
       "      <td>-140.00000</td>\n",
       "      <td>101.000000</td>\n",
       "      <td>0.056999</td>\n",
       "      <td>Not standarized</td>\n",
       "      <td>Perceptron</td>\n",
       "    </tr>\n",
       "  </tbody>\n",
       "</table>\n",
       "</div>"
      ],
      "text/plain": [
       "         age      drinks      smokes  body_type       diet     status  \\\n",
       "0  -4.541042    1.672962   -2.842265   3.529367   0.502348   -2.90922   \n",
       "1  29.000000 -229.000000 -160.000000 -25.000000 -33.000000 -140.00000   \n",
       "\n",
       "          sex  Time to calc     Type of data       model  \n",
       "0   -1.626689      0.079999      Standarized  Perceptron  \n",
       "1  101.000000      0.056999  Not standarized  Perceptron  "
      ]
     },
     "execution_count": 72,
     "metadata": {},
     "output_type": "execute_result"
    }
   ],
   "source": [
    "coefficients_P_s = model_drugs_P_s.coef_\n",
    "coefficients_P_ns = model_drugs_P_ns.coef_\n",
    "coeflist_P_s = coefficients_P_s.tolist()[0]\n",
    "coeflist_P_ns = coefficients_P_ns.tolist()[0]\n",
    "P_coef = [coeflist_P_s, coeflist_P_ns]\n",
    "\n",
    "df_P = DataFrame(P_coef)\n",
    "df_P.columns = ['age','drinks','smokes', 'body_type', 'diet', 'status', 'sex']\n",
    "df_P['Time to calc'] = [t_P_s, t_P_ns]\n",
    "df_P['Type of data'] = ['Standarized', 'Not standarized']\n",
    "df_P['model'] = 'Perceptron'\n",
    "df_P"
   ]
  },
  {
   "cell_type": "code",
   "execution_count": 73,
   "metadata": {},
   "outputs": [
    {
     "data": {
      "image/png": "[encoded data removed]",
      "text/plain": [
       "<Figure size 432x288 with 1 Axes>"
      ]
     },
     "metadata": {},
     "output_type": "display_data"
    }
   ],
   "source": [
    "# create plot\n",
    "labels = ['age','drinks','smokes', 'body_type', 'diet', 'status', 'sex']\n",
    "\n",
    "x = np.arange(len(labels))  # the label locations\n",
    "width = 0.35  # the width of the bars\n",
    "\n",
    "fig, ax = plt.subplots()\n",
    "rects1 = ax.bar(x - width/2, coeflist_P_s, width, label='Standarized')\n",
    "rects2 = ax.bar(x + width/2, coeflist_P_ns, width, label='Not Standarized')\n",
    "\n",
    "# Add some text for labels, title and custom x-axis tick labels, etc.\n",
    "ax.set_ylabel('Influence')\n",
    "ax.set_title('Weights of each caracteristic in the model')\n",
    "ax.set_xticks(x)\n",
    "ax.set_xticklabels(labels)\n",
    "ax.legend()\n",
    "\n",
    "fig.tight_layout()\n",
    "\n",
    "plt.show()"
   ]
  },
  {
   "cell_type": "code",
   "execution_count": null,
   "metadata": {},
   "outputs": [],
   "source": []
  },
  {
   "cell_type": "markdown",
   "metadata": {},
   "source": [
    "## PasiveAggressiveClassifier"
   ]
  },
  {
   "cell_type": "markdown",
   "metadata": {},
   "source": [
    "Standarized"
   ]
  },
  {
   "cell_type": "code",
   "execution_count": 74,
   "metadata": {},
   "outputs": [],
   "source": [
    "start = time()\n",
    "from sklearn.linear_model import PassiveAggressiveClassifier\n",
    "model_drugs_pac_s = PassiveAggressiveClassifier(loss='hinge')\n",
    "model_drugs_pac_s.fit(train_features_drugs,train_labels_drugs)\n",
    "done = time()\n",
    "\n",
    "sc_pac_s = model_drugs_pac_s.score(test_features_drugs, test_labels_drugs)\n",
    "t_pac_s = done - start"
   ]
  },
  {
   "cell_type": "markdown",
   "metadata": {},
   "source": [
    "Not Standarized"
   ]
  },
  {
   "cell_type": "code",
   "execution_count": 75,
   "metadata": {},
   "outputs": [],
   "source": [
    "\n",
    "from sklearn.linear_model import PassiveAggressiveClassifier\n",
    "start = time()\n",
    "model_drugs_pac_ns = PassiveAggressiveClassifier(loss='hinge')\n",
    "model_drugs_pac_ns.fit(train_data_drugs,train_labels_drugs)\n",
    "done = time()\n",
    "\n",
    "sc_pac_ns = model_drugs_pac_ns.score(test_data_drugs, test_labels_drugs)\n",
    "t_pac_ns = done - start"
   ]
  },
  {
   "cell_type": "code",
   "execution_count": 76,
   "metadata": {},
   "outputs": [
    {
     "name": "stdout",
     "output_type": "stream",
     "text": [
      "Model score -  Pasive Agresive Calsifier - Standaririze data: 0.7889307677048205 . Time took 0.07198047637939453 seconds\n",
      "------------------------------------------------------------------------------------------------------------------\n",
      "Model score -  Pasive Agersive Clasifier - not standarize data: 0.8169014084507042 . Time took 0.05899953842163086 seconds\n"
     ]
    }
   ],
   "source": [
    "# Shows frist results\n",
    "print('Model score - ', 'Pasive Agresive Calsifier - Standaririze data:', sc_pac_s,'. Time took', t_pac_s, 'seconds')\n",
    "print('------------------------------------------------------------------------------------------------------------------')\n",
    "print('Model score - ', 'Pasive Agersive Clasifier - not standarize data:', sc_pac_ns,'. Time took', t_pac_ns, 'seconds')"
   ]
  },
  {
   "cell_type": "code",
   "execution_count": 77,
   "metadata": {},
   "outputs": [
    {
     "data": {
      "text/html": [
       "<div>\n",
       "<style scoped>\n",
       "    .dataframe tbody tr th:only-of-type {\n",
       "        vertical-align: middle;\n",
       "    }\n",
       "\n",
       "    .dataframe tbody tr th {\n",
       "        vertical-align: top;\n",
       "    }\n",
       "\n",
       "    .dataframe thead th {\n",
       "        text-align: right;\n",
       "    }\n",
       "</style>\n",
       "<table border=\"1\" class=\"dataframe\">\n",
       "  <thead>\n",
       "    <tr style=\"text-align: right;\">\n",
       "      <th></th>\n",
       "      <th>age</th>\n",
       "      <th>drinks</th>\n",
       "      <th>smokes</th>\n",
       "      <th>body_type</th>\n",
       "      <th>diet</th>\n",
       "      <th>status</th>\n",
       "      <th>sex</th>\n",
       "      <th>Time to calc</th>\n",
       "      <th>Type of data</th>\n",
       "      <th>model</th>\n",
       "    </tr>\n",
       "  </thead>\n",
       "  <tbody>\n",
       "    <tr>\n",
       "      <th>0</th>\n",
       "      <td>-0.594207</td>\n",
       "      <td>0.150713</td>\n",
       "      <td>-1.059948</td>\n",
       "      <td>-0.642789</td>\n",
       "      <td>-0.076839</td>\n",
       "      <td>-0.871938</td>\n",
       "      <td>0.097993</td>\n",
       "      <td>0.07198</td>\n",
       "      <td>Standarized</td>\n",
       "      <td>Perceptron</td>\n",
       "    </tr>\n",
       "    <tr>\n",
       "      <th>1</th>\n",
       "      <td>0.030427</td>\n",
       "      <td>-0.469754</td>\n",
       "      <td>-0.346884</td>\n",
       "      <td>-0.000148</td>\n",
       "      <td>-0.077992</td>\n",
       "      <td>-0.271211</td>\n",
       "      <td>0.148796</td>\n",
       "      <td>0.05900</td>\n",
       "      <td>Not standarized</td>\n",
       "      <td>Perceptron</td>\n",
       "    </tr>\n",
       "  </tbody>\n",
       "</table>\n",
       "</div>"
      ],
      "text/plain": [
       "        age    drinks    smokes  body_type      diet    status       sex  \\\n",
       "0 -0.594207  0.150713 -1.059948  -0.642789 -0.076839 -0.871938  0.097993   \n",
       "1  0.030427 -0.469754 -0.346884  -0.000148 -0.077992 -0.271211  0.148796   \n",
       "\n",
       "   Time to calc     Type of data       model  \n",
       "0       0.07198      Standarized  Perceptron  \n",
       "1       0.05900  Not standarized  Perceptron  "
      ]
     },
     "execution_count": 77,
     "metadata": {},
     "output_type": "execute_result"
    }
   ],
   "source": [
    "coefficients_pac_s = model_drugs_pac_s.coef_\n",
    "coefficients_pac_ns = model_drugs_pac_ns.coef_\n",
    "coeflist_pac_s = coefficients_pac_s.tolist()[0]\n",
    "coeflist_pac_ns = coefficients_pac_ns.tolist()[0]\n",
    "pac_coef = [coeflist_pac_s, coeflist_pac_ns]\n",
    "\n",
    "df_pac = DataFrame(pac_coef)\n",
    "df_pac.columns = ['age','drinks','smokes', 'body_type', 'diet', 'status', 'sex']\n",
    "df_pac['Time to calc'] = [t_pac_s, t_pac_ns]\n",
    "df_pac['Type of data'] = ['Standarized', 'Not standarized']\n",
    "df_pac['model'] = 'Perceptron'\n",
    "df_pac"
   ]
  },
  {
   "cell_type": "code",
   "execution_count": 78,
   "metadata": {},
   "outputs": [
    {
     "data": {
      "image/png": "[encoded data removed]",
      "text/plain": [
       "<Figure size 432x288 with 1 Axes>"
      ]
     },
     "metadata": {},
     "output_type": "display_data"
    }
   ],
   "source": [
    "# create plot\n",
    "labels = ['age','drinks','smokes', 'body_type', 'diet', 'status', 'sex']\n",
    "\n",
    "x = np.arange(len(labels))  # the label locations\n",
    "width = 0.35  # the width of the bars\n",
    "\n",
    "fig, ax = plt.subplots()\n",
    "rects1 = ax.bar(x - width/2, coeflist_pac_s, width, label='Standarized')\n",
    "rects2 = ax.bar(x + width/2, coeflist_pac_ns, width, label='Not Standarized')\n",
    "\n",
    "# Add some text for labels, title and custom x-axis tick labels, etc.\n",
    "ax.set_ylabel('Influence')\n",
    "ax.set_title('Weights of each caracteristic in the model')\n",
    "ax.set_xticks(x)\n",
    "ax.set_xticklabels(labels)\n",
    "ax.legend()\n",
    "\n",
    "fig.tight_layout()\n",
    "\n",
    "plt.show()"
   ]
  },
  {
   "cell_type": "markdown",
   "metadata": {},
   "source": [
    "## Linear and Quadratic Discriminant Analysis"
   ]
  },
  {
   "cell_type": "markdown",
   "metadata": {},
   "source": [
    "https://scikit-learn.org/stable/modules/lda_qda.html#linear-and-quadratic-discriminant-analysis\n",
    "\n",
    "https://scikit-learn.org/stable/modules/generated/sklearn.discriminant_analysis.LinearDiscriminantAnalysis.html#sklearn.discriminant_analysis.LinearDiscriminantAnalysis\n"
   ]
  },
  {
   "cell_type": "code",
   "execution_count": 79,
   "metadata": {},
   "outputs": [],
   "source": [
    "from sklearn.discriminant_analysis import LinearDiscriminantAnalysis\n",
    "start = time()\n",
    "model_drugs_lda_s = LinearDiscriminantAnalysis()\n",
    "model_drugs_lda_s.fit(train_features_drugs,train_labels_drugs)\n",
    "done = time()\n",
    "\n",
    "sc_lda_s = model_drugs_lda_s.score(test_data_drugs, test_labels_drugs)\n",
    "t_lda_s = done - start\n"
   ]
  },
  {
   "cell_type": "code",
   "execution_count": 80,
   "metadata": {},
   "outputs": [],
   "source": [
    "\n",
    "from sklearn.discriminant_analysis import LinearDiscriminantAnalysis\n",
    "start = time()\n",
    "model_drugs_lda_ns = LinearDiscriminantAnalysis()\n",
    "model_drugs_lda_ns.fit(train_data_drugs,train_labels_drugs)\n",
    "done = time()\n",
    "\n",
    "sc_lda_ns = model_drugs_lda_ns.score(test_data_drugs, test_labels_drugs)\n",
    "t_lda_ns = done - start"
   ]
  },
  {
   "cell_type": "code",
   "execution_count": 81,
   "metadata": {},
   "outputs": [
    {
     "name": "stdout",
     "output_type": "stream",
     "text": [
      "Model score -  Linear and Quadratic Discriminant Analysis - Standaririze data: 0.803015274747074 . Time took 0.04199385643005371 seconds\n",
      "------------------------------------------------------------------------------------------------------------------\n",
      "Model score -  Linear and Quadratic Discriminant Analysis - not standarize data: 0.8091648482443959 . Time took 0.0410006046295166 seconds\n"
     ]
    }
   ],
   "source": [
    "# Shows frist results\n",
    "print('Model score - ', 'Linear and Quadratic Discriminant Analysis - Standaririze data:', sc_lda_s,'. Time took', t_lda_s, 'seconds')\n",
    "print('------------------------------------------------------------------------------------------------------------------')\n",
    "print('Model score - ', 'Linear and Quadratic Discriminant Analysis - not standarize data:', sc_lda_ns,'. Time took', t_lda_ns, 'seconds')"
   ]
  },
  {
   "cell_type": "code",
   "execution_count": 82,
   "metadata": {},
   "outputs": [
    {
     "data": {
      "text/html": [
       "<div>\n",
       "<style scoped>\n",
       "    .dataframe tbody tr th:only-of-type {\n",
       "        vertical-align: middle;\n",
       "    }\n",
       "\n",
       "    .dataframe tbody tr th {\n",
       "        vertical-align: top;\n",
       "    }\n",
       "\n",
       "    .dataframe thead th {\n",
       "        text-align: right;\n",
       "    }\n",
       "</style>\n",
       "<table border=\"1\" class=\"dataframe\">\n",
       "  <thead>\n",
       "    <tr style=\"text-align: right;\">\n",
       "      <th></th>\n",
       "      <th>age</th>\n",
       "      <th>drinks</th>\n",
       "      <th>smokes</th>\n",
       "      <th>body_type</th>\n",
       "      <th>diet</th>\n",
       "      <th>status</th>\n",
       "      <th>sex</th>\n",
       "      <th>Time to calc</th>\n",
       "      <th>Type of data</th>\n",
       "      <th>model</th>\n",
       "    </tr>\n",
       "  </thead>\n",
       "  <tbody>\n",
       "    <tr>\n",
       "      <th>0</th>\n",
       "      <td>0.056096</td>\n",
       "      <td>-0.095724</td>\n",
       "      <td>-0.161494</td>\n",
       "      <td>0.003231</td>\n",
       "      <td>-0.048443</td>\n",
       "      <td>-0.043548</td>\n",
       "      <td>0.025732</td>\n",
       "      <td>0.041994</td>\n",
       "      <td>Standarized</td>\n",
       "      <td>Perceptron</td>\n",
       "    </tr>\n",
       "    <tr>\n",
       "      <th>1</th>\n",
       "      <td>0.005701</td>\n",
       "      <td>-0.126262</td>\n",
       "      <td>-0.161739</td>\n",
       "      <td>0.001180</td>\n",
       "      <td>-0.022001</td>\n",
       "      <td>-0.106680</td>\n",
       "      <td>0.052567</td>\n",
       "      <td>0.041001</td>\n",
       "      <td>Not standarized</td>\n",
       "      <td>Perceptron</td>\n",
       "    </tr>\n",
       "  </tbody>\n",
       "</table>\n",
       "</div>"
      ],
      "text/plain": [
       "        age    drinks    smokes  body_type      diet    status       sex  \\\n",
       "0  0.056096 -0.095724 -0.161494   0.003231 -0.048443 -0.043548  0.025732   \n",
       "1  0.005701 -0.126262 -0.161739   0.001180 -0.022001 -0.106680  0.052567   \n",
       "\n",
       "   Time to calc     Type of data       model  \n",
       "0      0.041994      Standarized  Perceptron  \n",
       "1      0.041001  Not standarized  Perceptron  "
      ]
     },
     "execution_count": 82,
     "metadata": {},
     "output_type": "execute_result"
    }
   ],
   "source": [
    "coefficients_lda_s = model_drugs_lda_s.coef_\n",
    "coefficients_lda_ns = model_drugs_lda_ns.coef_\n",
    "coeflist_lda_s = coefficients_lda_s.tolist()[0]\n",
    "coeflist_lda_ns = coefficients_lda_ns.tolist()[0]\n",
    "lda_coef = [coeflist_lda_s, coeflist_lda_ns]\n",
    "\n",
    "df_lda = DataFrame(lda_coef)\n",
    "df_lda.columns = ['age','drinks','smokes', 'body_type', 'diet', 'status', 'sex']\n",
    "df_lda['Time to calc'] = [t_lda_s, t_lda_ns]\n",
    "df_lda['Type of data'] = ['Standarized', 'Not standarized']\n",
    "df_lda['model'] = 'Perceptron'\n",
    "df_lda"
   ]
  },
  {
   "cell_type": "code",
   "execution_count": 83,
   "metadata": {},
   "outputs": [
    {
     "data": {
      "image/png": "[encoded data removed]",
      "text/plain": [
       "<Figure size 432x288 with 1 Axes>"
      ]
     },
     "metadata": {},
     "output_type": "display_data"
    }
   ],
   "source": [
    "# create plot\n",
    "labels = ['age','drinks','smokes', 'body_type', 'diet', 'status', 'sex']\n",
    "\n",
    "x = np.arange(len(labels))  # the label locations\n",
    "width = 0.35  # the width of the bars\n",
    "\n",
    "fig, ax = plt.subplots()\n",
    "rects1 = ax.bar(x - width/2, coeflist_lda_s, width, label='Standarized')\n",
    "rects2 = ax.bar(x + width/2, coeflist_lda_ns, width, label='Not Standarized')\n",
    "\n",
    "# Add some text for labels, title and custom x-axis tick labels, etc.\n",
    "ax.set_ylabel('Influence')\n",
    "ax.set_title('Weights of each caracteristic in the model')\n",
    "ax.set_xticks(x)\n",
    "ax.set_xticklabels(labels)\n",
    "ax.legend()\n",
    "\n",
    "fig.tight_layout()\n",
    "\n",
    "plt.show()"
   ]
  },
  {
   "cell_type": "markdown",
   "metadata": {},
   "source": [
    "## Suport Vector Machines\n",
    "\n",
    "https://scikit-learn.org/stable/modules/svm.html\n",
    "\n"
   ]
  },
  {
   "cell_type": "code",
   "execution_count": 84,
   "metadata": {},
   "outputs": [],
   "source": [
    "from sklearn import svm\n",
    "\n",
    "start = time()\n",
    "model_drugs_svm_s = svm.SVC()\n",
    "model_drugs_svm_s.fit(train_features_drugs,train_labels_drugs)\n",
    "done = time()\n",
    "\n",
    "sc_svm_s = model_drugs_svm_s.score(test_features_drugs, test_labels_drugs)\n",
    "t_svm_s = done - start\n"
   ]
  },
  {
   "cell_type": "code",
   "execution_count": 88,
   "metadata": {},
   "outputs": [],
   "source": [
    "start = time()\n",
    "model_drugs_svm_ns = svm.SVC()\n",
    "model_drugs_svm_ns.fit(train_data_drugs,train_labels_drugs)\n",
    "done = time()\n",
    "\n",
    "sc_svm_ns = model_drugs_svm_ns.score(test_data_drugs, test_labels_drugs)\n",
    "t_svm_ns = done - start\n"
   ]
  },
  {
   "cell_type": "code",
   "execution_count": 89,
   "metadata": {},
   "outputs": [
    {
     "name": "stdout",
     "output_type": "stream",
     "text": [
      "Model score -  Linear and Quadratic Discriminant Analysis - Standaririze data: 0.8198770085300535 . Time took 18.875998735427856 seconds\n",
      "------------------------------------------------------------------------------------------------------------------\n",
      "Model score -  Linear and Quadratic Discriminant Analysis - not standarize data: 0.8026185280698274 . Time took 13.24852728843689 seconds\n"
     ]
    }
   ],
   "source": [
    "# Shows frist results\n",
    "print('Model score - ', 'Linear and Quadratic Discriminant Analysis - Standaririze data:', sc_svm_s,'. Time took', t_svm_s, 'seconds')\n",
    "print('------------------------------------------------------------------------------------------------------------------')\n",
    "print('Model score - ', 'Linear and Quadratic Discriminant Analysis - not standarize data:', sc_svm_ns,'. Time took', t_svm_ns, 'seconds')"
   ]
  },
  {
   "cell_type": "code",
   "execution_count": null,
   "metadata": {},
   "outputs": [],
   "source": []
  },
  {
   "cell_type": "code",
   "execution_count": null,
   "metadata": {},
   "outputs": [],
   "source": []
  },
  {
   "cell_type": "markdown",
   "metadata": {},
   "source": [
    "## Quadratic Discriminant Analysis\n",
    "\n",
    "https://scikit-learn.org/stable/modules/generated/sklearn.discriminant_analysis.QuadraticDiscriminantAnalysis.html?highlight=quadraticdiscriminantanalysis#sklearn.discriminant_analysis.QuadraticDiscriminantAnalysis"
   ]
  },
  {
   "cell_type": "code",
   "execution_count": 90,
   "metadata": {
    "scrolled": true
   },
   "outputs": [
    {
     "name": "stdout",
     "output_type": "stream",
     "text": [
      "0.7875421543344574\n"
     ]
    }
   ],
   "source": [
    "\n",
    "from sklearn.discriminant_analysis import QuadraticDiscriminantAnalysis\n",
    "start = time()\n",
    "model_drugs_qda_s = QuadraticDiscriminantAnalysis()\n",
    "model_drugs_qda_s.fit(train_features_drugs,train_labels_drugs)\n",
    "done = time()\n",
    "print(model_drugs_qda_s.score(test_features_drugs, test_labels_drugs))"
   ]
  },
  {
   "cell_type": "code",
   "execution_count": 91,
   "metadata": {},
   "outputs": [
    {
     "name": "stdout",
     "output_type": "stream",
     "text": [
      "0.7875421543344574\n"
     ]
    }
   ],
   "source": [
    "\n",
    "from sklearn.discriminant_analysis import QuadraticDiscriminantAnalysis\n",
    "start = time()\n",
    "model_drugs_qda_ns = QuadraticDiscriminantAnalysis()\n",
    "model_drugs_qda_ns.fit(train_data_drugs,train_labels_drugs)\n",
    "done = time()\n",
    "print(model_drugs_qda_ns.score(test_data_drugs, test_labels_drugs))"
   ]
  },
  {
   "cell_type": "code",
   "execution_count": null,
   "metadata": {},
   "outputs": [],
   "source": []
  },
  {
   "cell_type": "code",
   "execution_count": null,
   "metadata": {},
   "outputs": [],
   "source": []
  },
  {
   "cell_type": "code",
   "execution_count": null,
   "metadata": {},
   "outputs": [],
   "source": []
  },
  {
   "cell_type": "code",
   "execution_count": null,
   "metadata": {},
   "outputs": [],
   "source": []
  },
  {
   "cell_type": "markdown",
   "metadata": {},
   "source": [
    "## TREE\n",
    "https://scikit-learn.org/stable/modules/classes.html?highlight=tree#module-sklearn.tree"
   ]
  },
  {
   "cell_type": "code",
   "execution_count": 92,
   "metadata": {},
   "outputs": [
    {
     "name": "stdout",
     "output_type": "stream",
     "text": [
      "0.7841698075778616\n"
     ]
    }
   ],
   "source": [
    "\n",
    "from sklearn import tree\n",
    "start = time()\n",
    "model_drugs_t_s = tree.DecisionTreeClassifier()\n",
    "model_drugs_t_s.fit(train_features_drugs,train_labels_drugs)\n",
    "print(model_drugs_t_s.score(test_features_drugs, test_labels_drugs))"
   ]
  },
  {
   "cell_type": "code",
   "execution_count": 93,
   "metadata": {},
   "outputs": [
    {
     "name": "stdout",
     "output_type": "stream",
     "text": [
      "0.7855584209482246\n"
     ]
    }
   ],
   "source": [
    "\n",
    "from sklearn import tree\n",
    "start = time()\n",
    "model_drugs_t_ns = tree.DecisionTreeClassifier()\n",
    "model_drugs_t_ns.fit(train_data_drugs,train_labels_drugs)\n",
    "print(model_drugs_t_ns.score(test_data_drugs, test_labels_drugs))"
   ]
  },
  {
   "cell_type": "code",
   "execution_count": 94,
   "metadata": {},
   "outputs": [
    {
     "name": "stdout",
     "output_type": "stream",
     "text": [
      "0.8079746082126562\n"
     ]
    }
   ],
   "source": [
    "from sklearn.linear_model import SGDClassifier\n",
    "start = time()\n",
    "model_drugs = SGDClassifier(loss=\"hinge\", penalty=\"l2\", max_iter=50)\n",
    "model_drugs.fit(train_features_drugs,train_labels_drugs)\n",
    "done = time()\n",
    "print(model_drugs.score(test_features_drugs, test_labels_drugs))\n",
    "\n"
   ]
  },
  {
   "cell_type": "code",
   "execution_count": 95,
   "metadata": {},
   "outputs": [
    {
     "name": "stdout",
     "output_type": "stream",
     "text": [
      "0.8212656219004166\n"
     ]
    }
   ],
   "source": [
    "n_neighbors = 15\n",
    "\n",
    "from sklearn import neighbors\n",
    "start = time()\n",
    "model_drugs = neighbors.KNeighborsClassifier(n_neighbors)\n",
    "model_drugs.fit(train_features_drugs,train_labels_drugs)\n",
    "done = time()\n",
    "\n",
    "print(model_drugs.score(test_features_drugs, test_labels_drugs))\n"
   ]
  },
  {
   "cell_type": "code",
   "execution_count": 96,
   "metadata": {},
   "outputs": [
    {
     "data": {
      "image/png": "[encoded data removed]",
      "text/plain": [
       "<Figure size 432x288 with 1 Axes>"
      ]
     },
     "metadata": {},
     "output_type": "display_data"
    },
    {
     "name": "stdout",
     "output_type": "stream",
     "text": [
      "{'k': 23, 'score': 0.8244395953183892}\n"
     ]
    }
   ],
   "source": [
    "# generate plot showing K Nearest Neighbors classifier score based on different n_neighbors values \n",
    "# and print out n_neighbors value that results in highest score\n",
    "\n",
    "scores = []\n",
    "\n",
    "highest_score = {\n",
    "    'k': 0,\n",
    "    'score': 0\n",
    "}\n",
    "\n",
    "for k in range(1, 101):\n",
    "    classifier = neighbors.KNeighborsClassifier(n_neighbors=k)\n",
    "    classifier.fit(train_features_drugs,train_labels_drugs)\n",
    "    score = classifier.score(test_features_drugs, test_labels_drugs)\n",
    "    scores.append(score)\n",
    "    if score > highest_score['score']:\n",
    "        highest_score = {\n",
    "            'k': k,\n",
    "            'score': score\n",
    "        }\n",
    "\n",
    "x_values = range(1, 101)\n",
    "\n",
    "y_values = scores\n",
    "\n",
    "plt.plot(x_values, y_values)\n",
    "plt.title('Accuracy of K Nearest Neighbours classifier based on different k values')\n",
    "plt.ylabel('Accuracy')\n",
    "plt.xlabel('k value')\n",
    "plt.show()\n",
    "print(highest_score)"
   ]
  },
  {
   "cell_type": "code",
   "execution_count": 97,
   "metadata": {},
   "outputs": [
    {
     "name": "stdout",
     "output_type": "stream",
     "text": [
      "0.8228526086094029\n"
     ]
    },
    {
     "name": "stderr",
     "output_type": "stream",
     "text": [
      "c:\\users\\fer\\appdata\\local\\programs\\python\\python37-32\\lib\\site-packages\\sklearn\\neural_network\\_multilayer_perceptron.py:500: ConvergenceWarning: lbfgs failed to converge (status=1):\n",
      "STOP: TOTAL NO. of ITERATIONS REACHED LIMIT.\n",
      "\n",
      "Increase the number of iterations (max_iter) or scale the data as shown in:\n",
      "    https://scikit-learn.org/stable/modules/preprocessing.html\n",
      "  self.n_iter_ = _check_optimize_result(\"lbfgs\", opt_res, self.max_iter)\n"
     ]
    }
   ],
   "source": [
    "from sklearn.neural_network import MLPClassifier\n",
    "start = time()\n",
    "model_drugs = MLPClassifier(solver='lbfgs', alpha=1e-5,hidden_layer_sizes=(7, 3), random_state=1)\n",
    "model_drugs.fit(train_features_drugs,train_labels_drugs)\n",
    "done = time()\n",
    "print(model_drugs.score(test_features_drugs, test_labels_drugs))\n"
   ]
  },
  {
   "cell_type": "code",
   "execution_count": null,
   "metadata": {},
   "outputs": [],
   "source": []
  },
  {
   "cell_type": "code",
   "execution_count": 98,
   "metadata": {},
   "outputs": [
    {
     "ename": "NameError",
     "evalue": "name 'tdf' is not defined",
     "output_type": "error",
     "traceback": [
      "\u001b[1;31m---------------------------------------------------------------------------\u001b[0m",
      "\u001b[1;31mNameError\u001b[0m                                 Traceback (most recent call last)",
      "\u001b[1;32m<ipython-input-98-3ec3ea7b3a2c>\u001b[0m in \u001b[0;36m<module>\u001b[1;34m\u001b[0m\n\u001b[1;32m----> 1\u001b[1;33m \u001b[0mtdf\u001b[0m\u001b[1;33m\u001b[0m\u001b[1;33m\u001b[0m\u001b[0m\n\u001b[0m",
      "\u001b[1;31mNameError\u001b[0m: name 'tdf' is not defined"
     ]
    }
   ],
   "source": [
    "tdf "
   ]
  },
  {
   "cell_type": "code",
   "execution_count": null,
   "metadata": {},
   "outputs": [],
   "source": [
    "coefficients_P_ns = model_drugs_P_ns.coef_\n",
    "coeflist_P_ns = coefficients_P_ns.tolist()[0]\n",
    "\n",
    "from matplotlib import pyplot as plt\n",
    "plt.figure(figsize = (10,7))\n",
    "ax = plt.subplot()\n",
    "plt.bar(range(len(coeflist_P_ns)), coeflist_P_ns)\n",
    "ax.set_xticks(range(len(coeflist_P_ns)));\n",
    "ax.set_xticklabels(['age','drinks','smokes', 'body_type', 'diet', 'status', 'sex'], size = 14)\n",
    "plt.ylabel(\"Correlation\", size = 15)\n",
    "plt.title(\" Weights of the 7 characteristics affects the approach of people to drugs\", size = 15)\n",
    "plt.show()"
   ]
  },
  {
   "cell_type": "code",
   "execution_count": null,
   "metadata": {},
   "outputs": [],
   "source": []
  },
  {
   "cell_type": "code",
   "execution_count": null,
   "metadata": {},
   "outputs": [],
   "source": []
  }
 ],
 "metadata": {
  "kernelspec": {
   "display_name": "Python 3",
   "language": "python",
   "name": "python3"
  },
  "language_info": {
   "codemirror_mode": {
    "name": "ipython",
    "version": 3
   },
   "file_extension": ".py",
   "mimetype": "text/x-python",
   "name": "python",
   "nbconvert_exporter": "python",
   "pygments_lexer": "ipython3",
   "version": "3.7.2"
  }
 },
 "nbformat": 4,
 "nbformat_minor": 4
}
